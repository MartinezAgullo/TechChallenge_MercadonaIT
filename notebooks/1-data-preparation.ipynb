{
 "cells": [
  {
   "cell_type": "markdown",
   "metadata": {},
   "source": [
    "## Data Science Candidate Evaluation: Exploratory Data Analysis for Forecasting Task\n",
    "### 📄 Introduction\n",
    "Welcome to the evaluation phase of your application for the Data Science position. This notebook is designed to assess your skills in exploratory data analysis (EDA) and forecasting. You will be provided with a dataset and a series of tasks aimed at testing your ability to interpret data and extract meaningful insights that could inform future forecasting models.\n",
    "\n",
    "### 🎯 Objective\n",
    "Your main objective in this notebook is to conduct a thorough exploratory analysis of the provided dataset. You should aim to understand the underlying patterns, trends, and anomalies within the data. The insights you generate here will be pivotal for building robust forecasting models in later stages.\n",
    "\n",
    "### 📚 Dataset Description\n",
    "* \t📆 Calendar.csv\n",
    "    - DATE\n",
    "    - STORE_ID\n",
    "    - STATE\n",
    "        - C : Closed\n",
    "        - A : Open\n",
    "        - FA : Open on holiday\n",
    "        - FM : Open on holiday until noon\n",
    "        - CR : Closed for renovation\n",
    "    - OPENING_TIME\n",
    "    - CLOSING_TIME \n",
    "    - HOLIDAY_AND_CLOSED\n",
    "        - 1: True,  0: False\n",
    "    - UNDER_REFORM\n",
    "        - 1: True, 0: False\n",
    "* 📉 ipc_history.csv\n",
    "    - Evolution of IPC over time\n",
    "* 📝 sales_test_submission.csv\n",
    "    - File for results. Colums SALES must be filled with predictions\n",
    "* 📈 sales_train_dataset.csv\n",
    "    - Cumulative sales over time\n",
    "\n"
   ]
  },
  {
   "cell_type": "markdown",
   "metadata": {},
   "source": [
    "##### Task 1: Import all necessary libraries"
   ]
  },
  {
   "cell_type": "code",
   "execution_count": null,
   "metadata": {},
   "outputs": [],
   "source": [
    "..."
   ]
  },
  {
   "cell_type": "markdown",
   "metadata": {},
   "source": [
    "##### Task 2: Load all CSV files (format data if necessary)"
   ]
  },
  {
   "cell_type": "code",
   "execution_count": null,
   "metadata": {},
   "outputs": [],
   "source": [
    "..."
   ]
  },
  {
   "cell_type": "markdown",
   "metadata": {},
   "source": [
    "##### Task 3: Basic sales exploration\n",
    "* Plot the sales over the year\n",
    "* Bar graph with sales grouped by month\n",
    "* Which day of the week (on average) does Mercadona have the best sales?"
   ]
  },
  {
   "cell_type": "code",
   "execution_count": null,
   "metadata": {},
   "outputs": [],
   "source": [
    "..."
   ]
  },
  {
   "cell_type": "markdown",
   "metadata": {},
   "source": [
    "##### Task 4: Outliers\n",
    "* Identify possible outliers\n",
    "* ¿Are there missing values?, ¿How would you deal with them?"
   ]
  },
  {
   "cell_type": "code",
   "execution_count": null,
   "metadata": {},
   "outputs": [],
   "source": [
    "..."
   ]
  },
  {
   "cell_type": "markdown",
   "metadata": {},
   "source": [
    "##### Taskk 5: Open/Close datase\n",
    "* Plot a two-line graph. Each line should represent the amount of stores open/close at each day"
   ]
  },
  {
   "cell_type": "code",
   "execution_count": null,
   "metadata": {},
   "outputs": [],
   "source": [
    "..."
   ]
  },
  {
   "cell_type": "markdown",
   "metadata": {},
   "source": [
    "##### Task 6: Seasonality\n",
    "* ¿Does sales follow a trend?\n",
    "* ¿Can you identify a pattern on sales?\n",
    "* ¿Are sales regular over all the year?"
   ]
  },
  {
   "cell_type": "code",
   "execution_count": 13,
   "metadata": {},
   "outputs": [
    {
     "data": {
      "text/plain": [
       "Ellipsis"
      ]
     },
     "execution_count": 13,
     "metadata": {},
     "output_type": "execute_result"
    }
   ],
   "source": [
    "..."
   ]
  },
  {
   "cell_type": "markdown",
   "metadata": {},
   "source": [
    "##### Task 7: Optionaly\n",
    "* If consider there are any kind of analysis that still can be done and would be useful for a forecasting task, that's the place to do it"
   ]
  },
  {
   "cell_type": "code",
   "execution_count": null,
   "metadata": {},
   "outputs": [],
   "source": [
    "..."
   ]
  },
  {
   "cell_type": "markdown",
   "metadata": {},
   "source": [
    "##### Task 8: Dataset creation\n",
    "* At this stage, you should be capable of creating a dataset for a forecasting task. The goal is to populate the SALES column in the test submission file. To achieve this, you will need to first create a dataset and then train a model. You are encouraged to utilize all available information in the CSV files (and optionally, from the internet) to compile a single CSV file containing all chosen features along with the target variable.\n",
    "* tip: Depending on the model you want to use, it's possible that categorical variables needs a special processing 😉."
   ]
  },
  {
   "cell_type": "code",
   "execution_count": null,
   "metadata": {},
   "outputs": [],
   "source": []
  }
 ],
 "metadata": {
  "kernelspec": {
   "display_name": "Python 3",
   "language": "python",
   "name": "python3"
  },
  "language_info": {
   "codemirror_mode": {
    "name": "ipython",
    "version": 3
   },
   "file_extension": ".py",
   "mimetype": "text/x-python",
   "name": "python",
   "nbconvert_exporter": "python",
   "pygments_lexer": "ipython3",
   "version": "3.11.9"
  }
 },
 "nbformat": 4,
 "nbformat_minor": 2
}
