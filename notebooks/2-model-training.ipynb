{
 "cells": [
  {
   "cell_type": "markdown",
   "metadata": {},
   "source": [
    "# 🤖 3 Training the forecasting model\n",
    "\n",
    "### 🎯 Objective\n",
    "The objective of this notebook is to include the needed code to train a forecasting model with the tools you find more suitable for the exercise.\n",
    "You'll be guided through the notebook, but feel free to add anything you may find interesting to add value to the trained model and its accuracy."
   ]
  },
  {
   "cell_type": "markdown",
   "metadata": {},
   "source": [
    "### 🔙 Prerrequisites\n",
    "1. Make sure you have built and transformed the dataset in previous steps, you'll find notebooks guiding you through this process in this same repository.\n",
    "2. Install any dependencies you may need, using any dependency manager you like."
   ]
  },
  {
   "cell_type": "markdown",
   "metadata": {},
   "source": [
    "### 🏁 When you finish\n",
    "Make sure to comment with markdown cells what you have developed to solve this problem. Also, try to explain how to use your code, what we need to install to use it, etc."
   ]
  },
  {
   "cell_type": "markdown",
   "metadata": {},
   "source": [
    "## 1. 🔍 Data Loading"
   ]
  },
  {
   "cell_type": "markdown",
   "metadata": {},
   "source": [
    "Use this part of the notebook to work on: loading the built dataset and splitting in train, validation and test partitions if desired."
   ]
  },
  {
   "cell_type": "markdown",
   "metadata": {},
   "source": [
    "### 1.1 💾 Load the dataset.csv file you built in previous steps"
   ]
  },
  {
   "cell_type": "code",
   "execution_count": 21,
   "metadata": {},
   "outputs": [],
   "source": [
    "import pandas as pd\n",
    "from sklearn.model_selection import TimeSeriesSplit\n",
    "import numpy as np\n",
    "import seaborn as sns\n",
    "import matplotlib.pyplot as plt\n",
    "from sklearn.ensemble import RandomForestRegressor\n"
   ]
  },
  {
   "cell_type": "code",
   "execution_count": 5,
   "metadata": {},
   "outputs": [
    {
     "data": {
      "text/html": [
       "<div>\n",
       "<style scoped>\n",
       "    .dataframe tbody tr th:only-of-type {\n",
       "        vertical-align: middle;\n",
       "    }\n",
       "\n",
       "    .dataframe tbody tr th {\n",
       "        vertical-align: top;\n",
       "    }\n",
       "\n",
       "    .dataframe thead th {\n",
       "        text-align: right;\n",
       "    }\n",
       "</style>\n",
       "<table border=\"1\" class=\"dataframe\">\n",
       "  <thead>\n",
       "    <tr style=\"text-align: right;\">\n",
       "      <th></th>\n",
       "      <th>DATE</th>\n",
       "      <th>SALES</th>\n",
       "      <th>CUMULATIVE_SALES_ALL</th>\n",
       "      <th>HOLIDAY</th>\n",
       "      <th>Year</th>\n",
       "      <th>Month</th>\n",
       "      <th>DayOfWeek</th>\n",
       "      <th>YearMonth</th>\n",
       "      <th>IPC_VALUE</th>\n",
       "      <th>A</th>\n",
       "      <th>FA</th>\n",
       "      <th>FM</th>\n",
       "      <th>C</th>\n",
       "      <th>CR</th>\n",
       "    </tr>\n",
       "  </thead>\n",
       "  <tbody>\n",
       "    <tr>\n",
       "      <th>0</th>\n",
       "      <td>2015-01-01</td>\n",
       "      <td>1.103868e+03</td>\n",
       "      <td>1.103868e+03</td>\n",
       "      <td>False</td>\n",
       "      <td>2015</td>\n",
       "      <td>1</td>\n",
       "      <td>3</td>\n",
       "      <td>2015-01</td>\n",
       "      <td>-0.4</td>\n",
       "      <td>0</td>\n",
       "      <td>0</td>\n",
       "      <td>0</td>\n",
       "      <td>1521</td>\n",
       "      <td>0</td>\n",
       "    </tr>\n",
       "    <tr>\n",
       "      <th>1</th>\n",
       "      <td>2015-01-02</td>\n",
       "      <td>1.317074e+07</td>\n",
       "      <td>1.317184e+07</td>\n",
       "      <td>False</td>\n",
       "      <td>2015</td>\n",
       "      <td>1</td>\n",
       "      <td>4</td>\n",
       "      <td>2015-01</td>\n",
       "      <td>-0.4</td>\n",
       "      <td>1508</td>\n",
       "      <td>0</td>\n",
       "      <td>0</td>\n",
       "      <td>13</td>\n",
       "      <td>0</td>\n",
       "    </tr>\n",
       "    <tr>\n",
       "      <th>2</th>\n",
       "      <td>2015-01-03</td>\n",
       "      <td>1.616656e+07</td>\n",
       "      <td>2.933840e+07</td>\n",
       "      <td>False</td>\n",
       "      <td>2015</td>\n",
       "      <td>1</td>\n",
       "      <td>5</td>\n",
       "      <td>2015-01</td>\n",
       "      <td>-0.4</td>\n",
       "      <td>1521</td>\n",
       "      <td>0</td>\n",
       "      <td>0</td>\n",
       "      <td>0</td>\n",
       "      <td>0</td>\n",
       "    </tr>\n",
       "    <tr>\n",
       "      <th>3</th>\n",
       "      <td>2015-01-04</td>\n",
       "      <td>1.267257e+05</td>\n",
       "      <td>2.946512e+07</td>\n",
       "      <td>False</td>\n",
       "      <td>2015</td>\n",
       "      <td>1</td>\n",
       "      <td>6</td>\n",
       "      <td>2015-01</td>\n",
       "      <td>-0.4</td>\n",
       "      <td>0</td>\n",
       "      <td>10</td>\n",
       "      <td>0</td>\n",
       "      <td>1511</td>\n",
       "      <td>0</td>\n",
       "    </tr>\n",
       "    <tr>\n",
       "      <th>4</th>\n",
       "      <td>2015-01-05</td>\n",
       "      <td>1.791498e+07</td>\n",
       "      <td>4.738010e+07</td>\n",
       "      <td>False</td>\n",
       "      <td>2015</td>\n",
       "      <td>1</td>\n",
       "      <td>0</td>\n",
       "      <td>2015-01</td>\n",
       "      <td>-0.4</td>\n",
       "      <td>1520</td>\n",
       "      <td>0</td>\n",
       "      <td>0</td>\n",
       "      <td>1</td>\n",
       "      <td>0</td>\n",
       "    </tr>\n",
       "  </tbody>\n",
       "</table>\n",
       "</div>"
      ],
      "text/plain": [
       "         DATE         SALES  CUMULATIVE_SALES_ALL  HOLIDAY  Year  Month  \\\n",
       "0  2015-01-01  1.103868e+03          1.103868e+03    False  2015      1   \n",
       "1  2015-01-02  1.317074e+07          1.317184e+07    False  2015      1   \n",
       "2  2015-01-03  1.616656e+07          2.933840e+07    False  2015      1   \n",
       "3  2015-01-04  1.267257e+05          2.946512e+07    False  2015      1   \n",
       "4  2015-01-05  1.791498e+07          4.738010e+07    False  2015      1   \n",
       "\n",
       "   DayOfWeek YearMonth  IPC_VALUE     A  FA  FM     C  CR  \n",
       "0          3   2015-01       -0.4     0   0   0  1521   0  \n",
       "1          4   2015-01       -0.4  1508   0   0    13   0  \n",
       "2          5   2015-01       -0.4  1521   0   0     0   0  \n",
       "3          6   2015-01       -0.4     0  10   0  1511   0  \n",
       "4          0   2015-01       -0.4  1520   0   0     1   0  "
      ]
     },
     "execution_count": 5,
     "metadata": {},
     "output_type": "execute_result"
    }
   ],
   "source": [
    "sales_df = pd.read_csv('../data/Sales_ipc_calendar_dataset.csv')\n",
    "sales_df.head()"
   ]
  },
  {
   "cell_type": "code",
   "execution_count": 31,
   "metadata": {},
   "outputs": [],
   "source": [
    "#missing_data = sales_df.isnull().sum()\n",
    "#print(\"Missing values per column:\\n\", missing_data)\n",
    "sales_df['HOLIDAY'] = sales_df['HOLIDAY'].astype(bool)\n",
    "#print(sales_df.dtypes)\n"
   ]
  },
  {
   "cell_type": "markdown",
   "metadata": {},
   "source": [
    "### 1.2 ✂️ Split your data in partitions"
   ]
  },
  {
   "cell_type": "code",
   "execution_count": 32,
   "metadata": {},
   "outputs": [],
   "source": [
    "# Target (y) and Featurews(X)\n",
    "X = sales_df.drop(columns=['SALES'])\n",
    "y = sales_df['SALES']"
   ]
  },
  {
   "cell_type": "markdown",
   "metadata": {},
   "source": [
    "To implement time series splitting for our forecasting model, it is important to split the data in a way that respects the temporal order, ensuring that future data is never used to train the model. One method commonly used for this is `TimeSeriesSplit` from scikit-learn, which ensures that each split contains past data and leaves future data for testing."
   ]
  },
  {
   "cell_type": "code",
   "execution_count": 33,
   "metadata": {},
   "outputs": [],
   "source": [
    "# Set up time series split (e.g., with 5 splits)\n",
    "tscv = TimeSeriesSplit(n_splits=5)"
   ]
  },
  {
   "cell_type": "markdown",
   "metadata": {},
   "source": [
    "Each iteration of the split will provide a larger portion of the past data for training and reserve a portion of the future data for validation.\n",
    "\n",
    "For each split, we can train our model on the training set and validate it on the validation set."
   ]
  },
  {
   "cell_type": "code",
   "execution_count": 34,
   "metadata": {},
   "outputs": [],
   "source": [
    "# Visualize or print the indices of the train/test splits\n",
    "for train_index, test_index in tscv.split(X):\n",
    "    #print(\"\\n \\n \\n TRAIN:\", train_index, \"\\n \\nTEST:\", test_index)\n",
    "    X_train, X_test = X.iloc[train_index], X.iloc[test_index]\n",
    "    y_train, y_test = y.iloc[train_index], y.iloc[test_index]"
   ]
  },
  {
   "cell_type": "markdown",
   "metadata": {},
   "source": [
    "## 2. 🎯 Feature Selection"
   ]
  },
  {
   "cell_type": "markdown",
   "metadata": {},
   "source": [
    "Here, you may find useful to select the features you will use for training and the target to forecast. Try to explain why you have selected these features and discarded others.\n",
    "\n",
    "Remember that the sales column you can find in `data/sales_train_dataset.csv` should be the target variable for your model."
   ]
  },
  {
   "cell_type": "markdown",
   "metadata": {},
   "source": [
    "**Correlation study**\n",
    "\n",
    "By calculating the correlations between each variable and `SALES`, we can see which features have the strongest linear relationship with the target."
   ]
  },
  {
   "cell_type": "code",
   "execution_count": 37,
   "metadata": {},
   "outputs": [],
   "source": [
    "numeric_features = ['HOLIDAY', 'Year', 'Month', 'DayOfWeek', 'IPC_VALUE', 'A', 'FA', 'FM', 'C', 'CR']\n",
    "correlation_matrix = sales_df[numeric_features + ['SALES']].corr()\n",
    "correlation_with_sales = correlation_matrix['SALES'].drop('SALES')\n",
    "correlation_with_sales_sorted = correlation_with_sales.abs().sort_values(ascending=False)\n",
    "#print(correlation_with_sales_sorted)"
   ]
  },
  {
   "cell_type": "markdown",
   "metadata": {},
   "source": [
    "| Rank | Feature     | Correlation |\n",
    "|------|-------------|-------------|\n",
    "| 1    | C           | 0.871395    |\n",
    "| 2    | A           | 0.870674    |\n",
    "| 3    | DayOfWeek   | 0.267554    |\n",
    "| 4    | HOLIDAY     | 0.147047    |\n",
    "| 5    | Year        | 0.116122    |\n",
    "| 6    | FA          | 0.086449    |\n",
    "| 7    | Month       | 0.082997    |\n",
    "| 8    | FM          | 0.073669    |\n",
    "| 9    | IPC_VALUE   | 0.037194    |\n",
    "| 10   | CR          | 0.019965    |\n",
    "\n",
    "\n",
    "It is logical that the number of open or closed stores ranks highest in importance, as it directly impacts whether customers can make purchases. The day of the week also plays a significant role, with Saturdays showing a marked increase in sales compared to other days.\n",
    "\n",
    "Now it would be necessary to study the autocorrelations since they can provide redundant information to the model, and in many cases, one of them can be removed without significantly affecting model performance. This process helps reduce model complexity and avoid multicollinearity issues, which can cause unstable or less interpretable models."
   ]
  },
  {
   "cell_type": "code",
   "execution_count": 36,
   "metadata": {},
   "outputs": [
    {
     "data": {
      "image/png": "[encoded data removed]",
      "text/plain": [
       "<Figure size 1000x800 with 2 Axes>"
      ]
     },
     "metadata": {},
     "output_type": "display_data"
    }
   ],
   "source": [
    "correlation_matrix = sales_df[numeric_features].corr()\n",
    "\n",
    "# Plot a heatmap of the correlation matrix with numbers in all cells\n",
    "plt.figure(figsize=(10, 8))\n",
    "sns.heatmap(correlation_matrix, annot=True, fmt=\".2f\", cmap='coolwarm', linewidths=0.5, annot_kws={\"size\": 10})\n",
    "plt.title('Correlation Heatmap Among Features')\n",
    "plt.show()\n",
    "\n",
    "# Identify highly correlated pairs (absolute value > 0.8)\n",
    "highly_correlated = correlation_matrix.abs() > 0.8\n",
    "highly_correlated_pairs = correlation_matrix[highly_correlated & (correlation_matrix != 1)]\n",
    "\n",
    "#print(\"Highly Correlated Pairs:\")\n",
    "#print(highly_correlated_pairs)"
   ]
  },
  {
   "cell_type": "markdown",
   "metadata": {},
   "source": [
    "As anticipated, the heatmap reveals a strong negative correlation between `A` (open stores) and `C` (closed stores), which makes sense given that these features represent mutually exclusive states. \n",
    "\n",
    "When a feature is constant or exhibits minimal variance, its correlation with other features will often result in `NaN` values. This occurs because correlation is undefined for variables with zero or near-zero variance. This is likely the cause of the `NaN` values observed when examining the `highly_correlated_pairs`, as some features may have little or no variability in the dataset. Addressing these features, such as by removing or transforming them, could resolve the issue."
   ]
  },
  {
   "cell_type": "markdown",
   "metadata": {},
   "source": [
    "## 3. 🤖 Modeling"
   ]
  },
  {
   "cell_type": "markdown",
   "metadata": {},
   "source": [
    "In this section you will declare everything you need to train your model and fit it to your dataset."
   ]
  },
  {
   "cell_type": "code",
   "execution_count": null,
   "metadata": {},
   "outputs": [],
   "source": []
  },
  {
   "cell_type": "markdown",
   "metadata": {},
   "source": [
    "## 4. ✅ Validation"
   ]
  },
  {
   "cell_type": "markdown",
   "metadata": {},
   "source": [
    "Decide what metric to use to validate the performance of your model and explain why you chose it."
   ]
  },
  {
   "cell_type": "code",
   "execution_count": null,
   "metadata": {},
   "outputs": [],
   "source": []
  },
  {
   "cell_type": "markdown",
   "metadata": {},
   "source": [
    "## 5. 📊 Presentation of Results"
   ]
  },
  {
   "cell_type": "markdown",
   "metadata": {},
   "source": [
    "If you find it interesting, you can use plots to explain your results, metrics and how your model performance degrades over time.\n",
    "\n",
    "Also, it may be interesting to write down future work that you think may improve the obtained result."
   ]
  },
  {
   "cell_type": "code",
   "execution_count": null,
   "metadata": {},
   "outputs": [],
   "source": []
  },
  {
   "cell_type": "markdown",
   "metadata": {},
   "source": [
    "### 5.1 👨🏻‍🏫 Explainability with SHAP"
   ]
  },
  {
   "cell_type": "markdown",
   "metadata": {},
   "source": [
    "You have explained the results of your trained model using plots and your own words. Now... let's take the next step. We'll be using a library called SHAP, that may help you find insights and explainability on how your model learned the data.\n",
    "\n",
    "If you haven't heard of SHAP you can find their web site here:\n",
    "\n",
    "https://shap.readthedocs.io/en/latest/\n",
    "\n",
    "Don't worry, you will be guided through this exercises."
   ]
  },
  {
   "cell_type": "markdown",
   "metadata": {},
   "source": [
    "#### 5.1.1 🐝 Build a Beeswarm plot"
   ]
  },
  {
   "cell_type": "markdown",
   "metadata": {},
   "source": [
    "Build a Beeswarm plot to help you explain how each feature affects to the output given by the model"
   ]
  },
  {
   "cell_type": "code",
   "execution_count": null,
   "metadata": {},
   "outputs": [],
   "source": []
  },
  {
   "cell_type": "markdown",
   "metadata": {},
   "source": [
    "#### 5.1.2 💪🏻 Build a Force plot"
   ]
  },
  {
   "cell_type": "markdown",
   "metadata": {},
   "source": [
    "Build a Force plot to help you explain how each feature affects to the output given by the model"
   ]
  },
  {
   "cell_type": "code",
   "execution_count": null,
   "metadata": {},
   "outputs": [],
   "source": []
  },
  {
   "cell_type": "markdown",
   "metadata": {},
   "source": [
    "#### 5.1.3 🤷🏻‍♂️ Optional"
   ]
  },
  {
   "cell_type": "markdown",
   "metadata": {},
   "source": [
    "Explore the SHAP documentation and add any plot you may find useful to explain how the model decides its outputs."
   ]
  },
  {
   "cell_type": "code",
   "execution_count": null,
   "metadata": {},
   "outputs": [],
   "source": []
  },
  {
   "cell_type": "markdown",
   "metadata": {},
   "source": [
    "## 6. 🗃️ Model export"
   ]
  },
  {
   "cell_type": "markdown",
   "metadata": {},
   "source": [
    "If you have arrived to this point... Congratulations!! 🥳. You trained a working model that can now be served in an API to be used to make predictions.\n",
    "\n",
    "If you feel like developing a simple REST API to serve your amazing model, continue to the next step you will find in the `app/main.py` file located in this repository.\n",
    "\n",
    "But first, make sure to export your model to a file you can use to load it in your endpoint."
   ]
  },
  {
   "cell_type": "code",
   "execution_count": null,
   "metadata": {},
   "outputs": [],
   "source": []
  }
 ],
 "metadata": {
  "kernelspec": {
   "display_name": "Python 3 (ipykernel)",
   "language": "python",
   "name": "python3"
  },
  "language_info": {
   "codemirror_mode": {
    "name": "ipython",
    "version": 3
   },
   "file_extension": ".py",
   "mimetype": "text/x-python",
   "name": "python",
   "nbconvert_exporter": "python",
   "pygments_lexer": "ipython3",
   "version": "3.11.7"
  }
 },
 "nbformat": 4,
 "nbformat_minor": 2
}
