{
 "cells": [
  {
   "cell_type": "markdown",
   "metadata": {},
   "source": [
    "# 🤖 3 Training the forecasting model\n",
    "\n",
    "### 🎯 Objective\n",
    "The objective of this notebook is to include the needed code to train a forecasting model with the tools you find more suitable for the exercise.\n",
    "You'll be guided through the notebook, but feel free to add anything you may find interesting to add value to the trained model and its accuracy."
   ]
  },
  {
   "cell_type": "markdown",
   "metadata": {},
   "source": [
    "### 🔙 Prerrequisites\n",
    "1. Make sure you have built and transformed the dataset in previous steps, you'll find notebooks guiding you through this process in this same repository.\n",
    "2. Install any dependencies you may need, using any dependency manager you like."
   ]
  },
  {
   "cell_type": "markdown",
   "metadata": {},
   "source": [
    "### 🏁 When you finish\n",
    "Make sure to comment with markdown cells what you have developed to solve this problem. Also, try to explain how to use your code, what we need to install to use it, etc."
   ]
  },
  {
   "cell_type": "markdown",
   "metadata": {},
   "source": [
    "## 1. 🔍 Data Loading"
   ]
  },
  {
   "cell_type": "markdown",
   "metadata": {},
   "source": [
    "Use this part of the notebook to work on: loading the built dataset and splitting in train, validation and test partitions if desired."
   ]
  },
  {
   "cell_type": "markdown",
   "metadata": {},
   "source": [
    "### 1.1 💾 Load the dataset.csv file you built in previous steps"
   ]
  },
  {
   "cell_type": "code",
   "execution_count": 85,
   "metadata": {},
   "outputs": [],
   "source": [
    "import pandas as pd\n",
    "from pandas.plotting import autocorrelation_plot\n",
    "import numpy as np\n",
    "import seaborn as sns\n",
    "import matplotlib.pyplot as plt\n",
    "from statsmodels.tsa.seasonal import STL\n",
    "from statsmodels.tsa.stattools import adfuller\n",
    "from statsmodels.graphics.tsaplots import plot_acf, plot_pacf\n",
    "\n",
    "\n",
    "from sklearn.model_selection import TimeSeriesSplit\n",
    "from sklearn.ensemble import RandomForestRegressor\n",
    "from sklearn.metrics import mean_squared_error\n",
    "\n",
    "from statsmodels.tsa.arima.model import ARIMA\n",
    "#from fbprophet import Prophet\n",
    "from sklearn.preprocessing import MinMaxScaler\n",
    "from tensorflow.keras.models import Sequential\n",
    "from tensorflow.keras.layers import LSTM, Dense\n"
   ]
  },
  {
   "cell_type": "code",
   "execution_count": 64,
   "metadata": {},
   "outputs": [
    {
     "data": {
      "text/html": [
       "<div>\n",
       "<style scoped>\n",
       "    .dataframe tbody tr th:only-of-type {\n",
       "        vertical-align: middle;\n",
       "    }\n",
       "\n",
       "    .dataframe tbody tr th {\n",
       "        vertical-align: top;\n",
       "    }\n",
       "\n",
       "    .dataframe thead th {\n",
       "        text-align: right;\n",
       "    }\n",
       "</style>\n",
       "<table border=\"1\" class=\"dataframe\">\n",
       "  <thead>\n",
       "    <tr style=\"text-align: right;\">\n",
       "      <th></th>\n",
       "      <th>DATE</th>\n",
       "      <th>SALES</th>\n",
       "      <th>CUMULATIVE_SALES_ALL</th>\n",
       "      <th>HOLIDAY</th>\n",
       "      <th>Year</th>\n",
       "      <th>Month</th>\n",
       "      <th>DayOfWeek</th>\n",
       "      <th>YearMonth</th>\n",
       "      <th>IPC_VALUE</th>\n",
       "      <th>A</th>\n",
       "      <th>FA</th>\n",
       "      <th>FM</th>\n",
       "      <th>C</th>\n",
       "      <th>CR</th>\n",
       "    </tr>\n",
       "  </thead>\n",
       "  <tbody>\n",
       "    <tr>\n",
       "      <th>0</th>\n",
       "      <td>2015-01-01</td>\n",
       "      <td>1.103868e+03</td>\n",
       "      <td>1.103868e+03</td>\n",
       "      <td>False</td>\n",
       "      <td>2015</td>\n",
       "      <td>1</td>\n",
       "      <td>3</td>\n",
       "      <td>2015-01</td>\n",
       "      <td>-0.4</td>\n",
       "      <td>0</td>\n",
       "      <td>0</td>\n",
       "      <td>0</td>\n",
       "      <td>1521</td>\n",
       "      <td>0</td>\n",
       "    </tr>\n",
       "    <tr>\n",
       "      <th>1</th>\n",
       "      <td>2015-01-02</td>\n",
       "      <td>1.317074e+07</td>\n",
       "      <td>1.317184e+07</td>\n",
       "      <td>False</td>\n",
       "      <td>2015</td>\n",
       "      <td>1</td>\n",
       "      <td>4</td>\n",
       "      <td>2015-01</td>\n",
       "      <td>-0.4</td>\n",
       "      <td>1508</td>\n",
       "      <td>0</td>\n",
       "      <td>0</td>\n",
       "      <td>13</td>\n",
       "      <td>0</td>\n",
       "    </tr>\n",
       "    <tr>\n",
       "      <th>2</th>\n",
       "      <td>2015-01-03</td>\n",
       "      <td>1.616656e+07</td>\n",
       "      <td>2.933840e+07</td>\n",
       "      <td>False</td>\n",
       "      <td>2015</td>\n",
       "      <td>1</td>\n",
       "      <td>5</td>\n",
       "      <td>2015-01</td>\n",
       "      <td>-0.4</td>\n",
       "      <td>1521</td>\n",
       "      <td>0</td>\n",
       "      <td>0</td>\n",
       "      <td>0</td>\n",
       "      <td>0</td>\n",
       "    </tr>\n",
       "    <tr>\n",
       "      <th>3</th>\n",
       "      <td>2015-01-04</td>\n",
       "      <td>1.267257e+05</td>\n",
       "      <td>2.946512e+07</td>\n",
       "      <td>False</td>\n",
       "      <td>2015</td>\n",
       "      <td>1</td>\n",
       "      <td>6</td>\n",
       "      <td>2015-01</td>\n",
       "      <td>-0.4</td>\n",
       "      <td>0</td>\n",
       "      <td>10</td>\n",
       "      <td>0</td>\n",
       "      <td>1511</td>\n",
       "      <td>0</td>\n",
       "    </tr>\n",
       "    <tr>\n",
       "      <th>4</th>\n",
       "      <td>2015-01-05</td>\n",
       "      <td>1.791498e+07</td>\n",
       "      <td>4.738010e+07</td>\n",
       "      <td>False</td>\n",
       "      <td>2015</td>\n",
       "      <td>1</td>\n",
       "      <td>0</td>\n",
       "      <td>2015-01</td>\n",
       "      <td>-0.4</td>\n",
       "      <td>1520</td>\n",
       "      <td>0</td>\n",
       "      <td>0</td>\n",
       "      <td>1</td>\n",
       "      <td>0</td>\n",
       "    </tr>\n",
       "  </tbody>\n",
       "</table>\n",
       "</div>"
      ],
      "text/plain": [
       "         DATE         SALES  CUMULATIVE_SALES_ALL  HOLIDAY  Year  Month  \\\n",
       "0  2015-01-01  1.103868e+03          1.103868e+03    False  2015      1   \n",
       "1  2015-01-02  1.317074e+07          1.317184e+07    False  2015      1   \n",
       "2  2015-01-03  1.616656e+07          2.933840e+07    False  2015      1   \n",
       "3  2015-01-04  1.267257e+05          2.946512e+07    False  2015      1   \n",
       "4  2015-01-05  1.791498e+07          4.738010e+07    False  2015      1   \n",
       "\n",
       "   DayOfWeek YearMonth  IPC_VALUE     A  FA  FM     C  CR  \n",
       "0          3   2015-01       -0.4     0   0   0  1521   0  \n",
       "1          4   2015-01       -0.4  1508   0   0    13   0  \n",
       "2          5   2015-01       -0.4  1521   0   0     0   0  \n",
       "3          6   2015-01       -0.4     0  10   0  1511   0  \n",
       "4          0   2015-01       -0.4  1520   0   0     1   0  "
      ]
     },
     "execution_count": 64,
     "metadata": {},
     "output_type": "execute_result"
    }
   ],
   "source": [
    "sales_df = pd.read_csv('../data/Sales_ipc_calendar_dataset.csv')\n",
    "sales_df.head()"
   ]
  },
  {
   "cell_type": "code",
   "execution_count": 65,
   "metadata": {},
   "outputs": [],
   "source": [
    "#missing_data = sales_df.isnull().sum()\n",
    "#print(\"Missing values per column:\\n\", missing_data)\n",
    "sales_df['HOLIDAY'] = sales_df['HOLIDAY'].astype(bool)\n",
    "#print(sales_df.dtypes)"
   ]
  },
  {
   "cell_type": "markdown",
   "metadata": {},
   "source": [
    "### 1.2 ✂️ Split your data in partitions"
   ]
  },
  {
   "cell_type": "code",
   "execution_count": 66,
   "metadata": {},
   "outputs": [],
   "source": [
    "# Target (y) and Featurews(X)\n",
    "X = sales_df.drop(columns=['SALES'])\n",
    "y = sales_df['SALES']"
   ]
  },
  {
   "cell_type": "markdown",
   "metadata": {},
   "source": [
    "To implement time series splitting for our forecasting model, it is important to split the data in a way that respects the temporal order, ensuring that future data is never used to train the model. One method commonly used for this is `TimeSeriesSplit` from scikit-learn, which ensures that each split contains past data and leaves future data for testing."
   ]
  },
  {
   "cell_type": "code",
   "execution_count": 67,
   "metadata": {},
   "outputs": [],
   "source": [
    "# Set up time series split (e.g., with 5 splits)\n",
    "tscv = TimeSeriesSplit(n_splits=5)"
   ]
  },
  {
   "cell_type": "markdown",
   "metadata": {},
   "source": [
    "Each iteration of the split will provide a larger portion of the past data for training and reserve a portion of the future data for validation.\n",
    "\n",
    "For each split, we can train our model on the training set and validate it on the validation set."
   ]
  },
  {
   "cell_type": "code",
   "execution_count": 68,
   "metadata": {},
   "outputs": [],
   "source": [
    "# Visualize or print the indices of the train/test splits\n",
    "for train_index, test_index in tscv.split(X):\n",
    "    #print(\"\\n \\n \\n TRAIN:\", train_index, \"\\n \\nTEST:\", test_index)\n",
    "    X_train, X_test = X.iloc[train_index], X.iloc[test_index]\n",
    "    y_train, y_test = y.iloc[train_index], y.iloc[test_index]"
   ]
  },
  {
   "cell_type": "markdown",
   "metadata": {},
   "source": [
    "## 2. 🎯 Feature Selection"
   ]
  },
  {
   "cell_type": "markdown",
   "metadata": {},
   "source": [
    "Here, you may find useful to select the features you will use for training and the target to forecast. Try to explain why you have selected these features and discarded others.\n",
    "\n",
    "Remember that the sales column you can find in `data/sales_train_dataset.csv` should be the target variable for your model."
   ]
  },
  {
   "cell_type": "markdown",
   "metadata": {},
   "source": [
    "**Correlation study**\n",
    "\n",
    "By calculating the correlations between each variable and `SALES`, we can see which features have the strongest linear relationship with the target."
   ]
  },
  {
   "cell_type": "code",
   "execution_count": 69,
   "metadata": {},
   "outputs": [
    {
     "data": {
      "image/png": "[encoded data removed]",
      "text/plain": [
       "<Figure size 1000x600 with 1 Axes>"
      ]
     },
     "metadata": {},
     "output_type": "display_data"
    }
   ],
   "source": [
    "numeric_features = ['HOLIDAY', 'Year', 'Month', 'DayOfWeek', 'IPC_VALUE', 'A', 'FA', 'FM', 'C', 'CR']\n",
    "correlation_matrix = sales_df[numeric_features + ['SALES']].corr()\n",
    "correlation_with_sales = correlation_matrix['SALES'].drop('SALES')\n",
    "correlation_with_sales_sorted = correlation_with_sales.abs().sort_values(ascending=False)\n",
    "#print(correlation_with_sales_sorted)\n",
    "\n",
    "plt.figure(figsize=(10, 6))\n",
    "correlation_with_sales_sorted.plot(kind='bar', color='skyblue')\n",
    "plt.title('Correlation of Features with SALES', fontsize=14)\n",
    "plt.xlabel('Features', fontsize=12)\n",
    "\n",
    "plt.ylabel('Absolute Correlation', fontsize=12)\n",
    "plt.xticks(rotation=45, ha='right')\n",
    "\n",
    "plt.tight_layout()\n",
    "plt.show()"
   ]
  },
  {
   "cell_type": "markdown",
   "metadata": {},
   "source": [
    "| Rank | Feature     | Correlation |\n",
    "|------|-------------|-------------|\n",
    "| 1    | C           | 0.871395    |\n",
    "| 2    | A           | 0.870674    |\n",
    "| 3    | DayOfWeek   | 0.267554    |\n",
    "| 4    | HOLIDAY     | 0.147047    |\n",
    "| 5    | Year        | 0.116122    |\n",
    "| 6    | FA          | 0.086449    |\n",
    "| 7    | Month       | 0.082997    |\n",
    "| 8    | FM          | 0.073669    |\n",
    "| 9    | IPC_VALUE   | 0.037194    |\n",
    "| 10   | CR          | 0.019965    |\n",
    "\n",
    "\n",
    "It is logical that the number of open or closed stores ranks highest in importance, as it directly impacts whether customers can make purchases. The day of the week also plays a significant role, with Saturdays showing a marked increase in sales compared to other days.\n",
    "\n",
    "Now it would be necessary to study the autocorrelations since they can provide redundant information to the model, and in many cases, one of them can be removed without significantly affecting model performance. This process helps reduce model complexity and avoid multicollinearity issues, which can cause unstable or less interpretable models."
   ]
  },
  {
   "cell_type": "code",
   "execution_count": 70,
   "metadata": {},
   "outputs": [
    {
     "data": {
      "image/png": "[encoded data removed]",
      "text/plain": [
       "<Figure size 1000x800 with 2 Axes>"
      ]
     },
     "metadata": {},
     "output_type": "display_data"
    }
   ],
   "source": [
    "correlation_matrix = sales_df[numeric_features].corr()\n",
    "\n",
    "# Plot a heatmap of the correlation matrix with numbers in all cells\n",
    "plt.figure(figsize=(10, 8))\n",
    "sns.heatmap(correlation_matrix, annot=True, fmt=\".2f\", cmap='coolwarm', linewidths=0.5, annot_kws={\"size\": 10})\n",
    "plt.title('Correlation Heatmap Among Features')\n",
    "plt.show()\n",
    "\n",
    "# Identify highly correlated pairs (absolute value > 0.8)\n",
    "highly_correlated = correlation_matrix.abs() > 0.8\n",
    "highly_correlated_pairs = correlation_matrix[highly_correlated & (correlation_matrix != 1)]\n",
    "\n",
    "#print(\"Highly Correlated Pairs:\")\n",
    "#print(highly_correlated_pairs)"
   ]
  },
  {
   "cell_type": "markdown",
   "metadata": {},
   "source": [
    "As anticipated, the heatmap reveals a strong negative correlation between `A` (open stores) and `C` (closed stores), which makes sense given that these features represent mutually exclusive states. \n",
    "\n",
    "When a feature is constant or exhibits minimal variance, its correlation with other features will often result in `NaN` values. This occurs because correlation is undefined for variables with zero or near-zero variance. This is likely the cause of the `NaN` values observed when examining the `highly_correlated_pairs`, as some features may have little or no variability in the dataset. Addressing these features, such as by removing or transforming them, could resolve the issue.\n",
    "\n",
    "Removing `CR` and `FM` because of its low relevance.\n",
    "\n",
    "Removing `C`because of its high correlation with `A`."
   ]
  },
  {
   "cell_type": "code",
   "execution_count": 71,
   "metadata": {},
   "outputs": [
    {
     "data": {
      "image/png": "[encoded data removed]",
      "text/plain": [
       "<Figure size 1000x600 with 1 Axes>"
      ]
     },
     "metadata": {},
     "output_type": "display_data"
    }
   ],
   "source": [
    "numeric_features = ['HOLIDAY', 'Year', 'Month', 'DayOfWeek', 'IPC_VALUE', 'A', 'FA']\n",
    "correlation_matrix = sales_df[numeric_features + ['SALES']].corr()\n",
    "correlation_with_sales = correlation_matrix['SALES'].drop('SALES')\n",
    "correlation_with_sales_sorted = correlation_with_sales.abs().sort_values(ascending=False)\n",
    "#print(correlation_with_sales_sorted)\n",
    "\n",
    "plt.figure(figsize=(10, 6))\n",
    "correlation_with_sales_sorted.plot(kind='bar', color='skyblue')\n",
    "plt.title('Correlation of Features with SALES', fontsize=14)\n",
    "plt.xlabel('Features', fontsize=12)\n",
    "\n",
    "plt.ylabel('Absolute Correlation', fontsize=12)\n",
    "plt.xticks(rotation=45, ha='right')\n",
    "\n",
    "plt.tight_layout()\n",
    "plt.show()"
   ]
  },
  {
   "cell_type": "markdown",
   "metadata": {},
   "source": [
    "<!--\n",
    "The [autocorrelation_plot](https://pandas.pydata.org/docs/reference/api/pandas.plotting.autocorrelation_plot.html) is a commonly used tool for checking randomness in a data set. This randomness is ascertained by computing autocorrelation for data values at varying time lags. \n",
    "\n",
    "\n",
    "#autocorrelation_plot(sales_df['SALES'])\n",
    "#plt.show()\n",
    "\n",
    "-->"
   ]
  },
  {
   "cell_type": "markdown",
   "metadata": {},
   "source": [
    "### Other ideas\n",
    "\n",
    "#### Lagged features\n",
    "\n",
    "Let's explore adding lagged sales features, as these as they often carry strong predictive power for future sales in time series forecasting."
   ]
  },
  {
   "cell_type": "code",
   "execution_count": 72,
   "metadata": {},
   "outputs": [],
   "source": [
    "# Create lagged sales features\n",
    "sales_lag_df = sales_df.copy()\n",
    "\n",
    "sales_lag_df['lag_1'] = sales_lag_df['SALES'].shift(1)   # Lag by 1 day\n",
    "sales_lag_df['lag_7'] = sales_lag_df['SALES'].shift(7)   # Lag by 7 days (1 week)\n",
    "\n",
    "sales_lag_df = sales_lag_df.dropna()\n",
    "\n",
    "#sales_lag_df[['SALES', 'lag_1', 'lag_7']].head(14)"
   ]
  },
  {
   "cell_type": "markdown",
   "metadata": {},
   "source": [
    "#### Deterring\n",
    "\n",
    "Detrending removes the long-term growth or decline in the data. This is important because it helps isolate the patterns that are independent of the long-term upward or downward trend.\n",
    "\n",
    "see [Time Series Feature Selection: Which Methods to Apply](https://medium.com/@saverio3107/time-series-feature-selection-which-methods-to-apply-ec2b6aa57bef)\n",
    "\n",
    "<!--\n",
    "```\n",
    "# Detrend by differencing\n",
    "sales_lag_df['sales_detrended'] = sales_lag_df['SALES'].diff()\n",
    "\n",
    "# Drop the first NaN value caused by differencing\n",
    "sales_lag_df.dropna(inplace=True)\n",
    "\n",
    "# Verify the detrended sales\n",
    "print(sales_lag_df[['SALES', 'sales_detrended']].head())\n",
    "```\n",
    "\n",
    "Note: Turned off by now\n",
    "-->"
   ]
  },
  {
   "cell_type": "code",
   "execution_count": 73,
   "metadata": {},
   "outputs": [
    {
     "name": "stdout",
     "output_type": "stream",
     "text": [
      "           SALES  sales_detrended\n",
      "8   1.442774e+07     2.070327e+06\n",
      "9   1.830662e+07     3.878875e+06\n",
      "10  7.223293e+04    -1.823438e+07\n",
      "11  1.238362e+07     1.231138e+07\n",
      "12  1.075283e+07    -1.630791e+06\n"
     ]
    }
   ],
   "source": [
    "# Detrend by differencing\n",
    "sales_lag_df['sales_detrended'] = sales_lag_df['SALES'].diff()\n",
    "\n",
    "# Drop the first NaN value caused by differencing\n",
    "sales_lag_df.dropna(inplace=True)\n",
    "\n",
    "# Verify the detrended sales\n",
    "print(sales_lag_df[['SALES', 'sales_detrended']].head())"
   ]
  },
  {
   "cell_type": "markdown",
   "metadata": {},
   "source": [
    "<!--\n",
    "#### Deseasonalizing\n",
    "\n",
    "Deseasonalizing removes the seasonal patterns (e.g., weekly, monthly) from the data. This allows the model to focus on underlying trends and avoid overfitting to seasonal fluctuations.\n",
    "\n",
    "```\n",
    "sales_lag_df['DATE'] = pd.to_datetime(sales_lag_df['DATE'])\n",
    "\n",
    "# Set the DATE column as the index and fill missing dates with daily frequency\n",
    "sales_lag_df = sales_lag_df.set_index('DATE').asfreq('D')  # 'D' stands for daily frequency\n",
    "\n",
    "# Apply STL decomposition with an appropriate seasonal period (e.g., 7 for weekly seasonality)\n",
    "stl = STL(sales_lag_df['SALES'], seasonal=7)\n",
    "result = stl.fit()\n",
    "\n",
    "# Deseasonalized sales\n",
    "sales_lag_df['sales_deseasonalized'] = sales_lag_df['SALES'] - result.seasonal\n",
    "\n",
    "# Verify the deseasonalized sales\n",
    "print(sales_lag_df[['SALES', 'sales_deseasonalized']].head())\n",
    "```\n",
    "-->"
   ]
  },
  {
   "cell_type": "code",
   "execution_count": 74,
   "metadata": {},
   "outputs": [],
   "source": [
    "#sales_lag_df.head()"
   ]
  },
  {
   "cell_type": "markdown",
   "metadata": {},
   "source": [
    "#### RandomForestRegressor for Feature Selection\n",
    "\n",
    "Although `RandomForestRegressor` is not designed for time series forecasting, it is highly effective for feature selection. It ranks features by importance, helping determine how much each contributes to the prediction task. \n",
    "<!--\n",
    "This method is valuable because it:\n",
    "\n",
    "- **Captures nonlinear relationships** between features and the target variable.\n",
    "- **Accounts for feature interactions**, which might be missed by simpler statistical methods.\n",
    "- **Does not require stationarity**, unlike traditional time series models like ARIMA.\n",
    "-->\n",
    "By using `RandomForest`, we can rank both time-based features (e.g., lagged features) and categorical variables (e.g., `DayOfWeek`). The most relevant features can then be used in time-series-specific models like ARIMA, Prophet, or LSTM for better forecasting performance."
   ]
  },
  {
   "cell_type": "code",
   "execution_count": 75,
   "metadata": {},
   "outputs": [],
   "source": [
    "features = ['HOLIDAY', 'Year', 'Month', 'DayOfWeek', \n",
    "            'IPC_VALUE', 'A', 'FA','lag_1', 'lag_7']\n",
    "            #,'FM', 'C', 'CR']\n",
    "            #'sales_deseasonalized', 'sales_detrended']  # left out \n",
    "\n",
    "X = sales_lag_df[features]\n",
    "y = sales_lag_df['SALES']\n",
    "\n",
    "# Train Random Forest\n",
    "rf_model = RandomForestRegressor()\n",
    "rf_model.fit(X, y)\n",
    "\n",
    "# Display feature importance\n",
    "feature_importance = pd.Series(rf_model.feature_importances_, index=features)\n",
    "#feature_importance.sort_values(ascending=False)"
   ]
  },
  {
   "cell_type": "markdown",
   "metadata": {},
   "source": [
    "| Feature    | Importance Value  |\n",
    "|------------|-------------------|\n",
    "| A          | 0.7593            |\n",
    "| DayOfWeek  | 0.1194            |\n",
    "| lag_7      | 0.0534            |\n",
    "| lag_1      | 0.0434            |\n",
    "| FA         | 0.0107            |\n",
    "| Month      | 0.0075            |\n",
    "| Year       | 0.0036            |\n",
    "| IPC_VALUE  | 0.0028            |\n",
    "| HOLIDAY    | 0.0000000212      |\n",
    "\n",
    "<!--\n",
    "1. **A (Open)**:\n",
    "   - Being the most important feature, this suggests that whether the store is open or closed has the strongest influence on sales.\n",
    "   \n",
    "2. **DayOfWeek**:\n",
    "   - Sales behavior changes by the day of the week, as previously analyzed, with Saturdays generally showing the highest sales.\n",
    "\n",
    "3. **Lag Features (lag_7 and lag_1)**:\n",
    "   - These show that past sales data from one week ago (`lag_7`) and one day ago (`lag_1`) provide relevant information for forecasting sales. This is common in time series data, where historical values have predictive power.\n",
    "\n",
    "4. **FA (Open on holiday)**:\n",
    "   - This shows that being open on a holiday provides a minor contribution to predicting sales. It is less important than general open/closed status.\n",
    "\n",
    "5. **Month and Year**:\n",
    "   - These capture broader seasonality and year-over-year trends, but their impact is minimal compared to the other features.\n",
    "\n",
    "6. **IPC_VALUE (Inflation)**:\n",
    "   - The inflation value (`IPC_VALUE`) has some predictive power but is not very significant in daily sales predictions.\n",
    "\n",
    "7. **HOLIDAY**:\n",
    "   - This feature has almost no influence on predicting sales, potentially because other variables (such as `FA` and `A`) already capture the holiday effects.\n",
    "-->\n",
    "\n",
    "`RandomForestRegressor` effectively ranked the features by importance, identifying key predictors such as store open status (`A`), day of the week, and lagged sales data. These features are critical in forecasting sales.\n",
    "\n",
    "The final set of features is:"
   ]
  },
  {
   "cell_type": "code",
   "execution_count": 76,
   "metadata": {},
   "outputs": [],
   "source": [
    "features = ['A'\n",
    "            , 'DayOfWeek'\n",
    "            , 'lag_1'\n",
    "            , 'lag_7'\n",
    "            , 'FA'\n",
    "            , 'Month'\n",
    "            , 'Year'\n",
    "           ] "
   ]
  },
  {
   "cell_type": "markdown",
   "metadata": {},
   "source": [
    "## 3. 🤖 Modeling"
   ]
  },
  {
   "cell_type": "markdown",
   "metadata": {},
   "source": [
    "In this section you will declare everything you need to train your model and fit it to your dataset."
   ]
  },
  {
   "cell_type": "markdown",
   "metadata": {},
   "source": [
    "When using cross-validation (like `TimeSeriesSplit`),it is not necessary a separate validation set, since each fold in cross-validation acts as both validation and training at different stages.\n",
    "\n",
    "However, we could manually split the time data doing the following:\n",
    "```\n",
    "train_size = int(len(sales_lag_df) * 0.7)        # 70% training\n",
    "validation_size = int(len(sales_lag_df) * 0.15)  # 15% validation\n",
    "test_size = len(sales_lag_df) - train_size - validation_size  # 15% test\n",
    "\n",
    "train_df = sales_lag_df.iloc[:train_size]\n",
    "validation_df = sales_lag_df.iloc[train_size:train_size + validation_size]\n",
    "test_df = sales_lag_df.iloc[train_size + validation_size:]\n",
    "\n",
    "X_train, y_train = train_df.drop(columns=['SALES']), train_df['SALES']\n",
    "X_val, y_val = validation_df.drop(columns=['SALES']), validation_df['SALES']\n",
    "X_test, y_test = test_df.drop(columns=['SALES']), test_df['SALES']\n",
    "```\n",
    "Note that for time series data, we don't want to randomize the splits because preserving the temporal order is crucial.\n",
    "\n",
    "\n",
    "We will stick to cross-validation"
   ]
  },
  {
   "cell_type": "markdown",
   "metadata": {},
   "source": [
    "### 3.1 Prophet\n",
    "Simple model for forecasting\n",
    "\n",
    "```\n",
    "prophet_df = sales_lag_df[['DATE', 'SALES']].rename(columns={'DATE': 'ds', 'SALES': 'y'})\n",
    "model = Prophet()\n",
    "model.fit(prophet_df)\n",
    "future = model.make_future_dataframe(periods=30)  # Forecast 30 days ahead\n",
    "forecast = model.predict(future)\n",
    "forecast[['ds', 'yhat', 'yhat_lower', 'yhat_upper']].tail()\n",
    "```\n"
   ]
  },
  {
   "cell_type": "markdown",
   "metadata": {},
   "source": [
    "### 3.2 ARIMA (AutoRegressive Integrated Moving Average)\n",
    "Statistical model that captures the dependencies in time series data. A priori, this can be the best choice since it works well for univariate forecasting tasks (like predicting `SALES` over time)."
   ]
  },
  {
   "cell_type": "markdown",
   "metadata": {},
   "source": [
    "**ADF**\n",
    "\n",
    "The Augmented Dickey-Fuller (ADF) test is used to check whether a time series is stationary or not. Stationarity is an important assumption for many time series models, including ARIMA. If the p-value of the ADF test is below a certain threshold (e.g., 0.05), you can reject the null hypothesis that the series has a unit root, indicating that the series is stationary."
   ]
  },
  {
   "cell_type": "code",
   "execution_count": 77,
   "metadata": {},
   "outputs": [],
   "source": [
    "def perform_adfuller_test(series, column_name):\n",
    "\n",
    "    result = adfuller(series)\n",
    "\n",
    "    print(f\"ADF Test for {column_name}:\")\n",
    "    print('ADF Statistic:', result[0])\n",
    "    print('p-value:', result[1])\n",
    "    print('Critical Values:')\n",
    "    for key, value in result[4].items():\n",
    "        print(f'   {key}: {value}')\n",
    "    \n",
    "    # Interpret the p-value\n",
    "    if result[1] < 0.05:\n",
    "        print(f\"The {column_name} series is stationary (reject the null hypothesis).\\n\")\n",
    "    else:\n",
    "        print(f\"The {column_name} series is not stationary (fail to reject the null hypothesis).\\n\")"
   ]
  },
  {
   "cell_type": "code",
   "execution_count": 78,
   "metadata": {},
   "outputs": [
    {
     "name": "stdout",
     "output_type": "stream",
     "text": [
      "ADF Test for SALES:\n",
      "ADF Statistic: -2.5503603584929713\n",
      "p-value: 0.10369679262560683\n",
      "Critical Values:\n",
      "   1%: -3.4349343845870006\n",
      "   5%: -2.8635646903561653\n",
      "   10%: -2.5678479326174157\n",
      "The SALES series is not stationary (fail to reject the null hypothesis).\n",
      "\n"
     ]
    }
   ],
   "source": [
    "perform_adfuller_test(sales_lag_df['SALES'], 'SALES')"
   ]
  },
  {
   "cell_type": "markdown",
   "metadata": {},
   "source": [
    "This is relevant since ARIMA assumes the data is stationary. \n",
    "\n",
    "By using `sales_detrended`instead of `SALES`, we have stationary data. This means that we can proceed using ARIMA model without further tranformations to make data stationary."
   ]
  },
  {
   "cell_type": "code",
   "execution_count": 79,
   "metadata": {},
   "outputs": [
    {
     "name": "stdout",
     "output_type": "stream",
     "text": [
      "ADF Test for sales_detrended:\n",
      "ADF Statistic: -15.490282571499169\n",
      "p-value: 2.4900079227518523e-28\n",
      "Critical Values:\n",
      "   1%: -3.434931172941245\n",
      "   5%: -2.8635632730206857\n",
      "   10%: -2.567847177857108\n",
      "The sales_detrended series is stationary (reject the null hypothesis).\n",
      "\n"
     ]
    }
   ],
   "source": [
    "perform_adfuller_test(sales_lag_df['sales_detrended'], 'sales_detrended')"
   ]
  },
  {
   "cell_type": "code",
   "execution_count": 81,
   "metadata": {},
   "outputs": [
    {
     "data": {
      "image/png": "[encoded data removed]",
      "text/plain": [
       "<Figure size 1000x600 with 1 Axes>"
      ]
     },
     "metadata": {},
     "output_type": "display_data"
    }
   ],
   "source": [
    "sales_lag_dff = sales_lag_df.copy()\n",
    "sales_lag_dff['DATE'] = pd.to_datetime(sales_lag_dff['DATE'])\n",
    "sales_lag_dff.set_index('DATE', inplace=True)\n",
    "\n",
    "# Plot sales_detrended vs date\n",
    "plt.figure(figsize=(10, 6))\n",
    "plt.plot(sales_lag_dff.index, sales_lag_dff['sales_detrended'], color='blue',linestyle='None', marker='o')\n",
    "plt.title('Detrended Sales Over Time')\n",
    "plt.xlabel('Date')\n",
    "plt.ylabel('Detrended Sales')\n",
    "plt.grid(True)\n",
    "plt.show()"
   ]
  },
  {
   "cell_type": "markdown",
   "metadata": {},
   "source": [
    "Differencing has already been applied to `sales_detrended`, so we use this detrended data for the ARIMA model instead of `SALES`"
   ]
  },
  {
   "cell_type": "markdown",
   "metadata": {},
   "source": [
    "Applying `TimeSeriesSplit`for Cross-Validation"
   ]
  },
  {
   "cell_type": "code",
   "execution_count": 83,
   "metadata": {},
   "outputs": [
    {
     "name": "stdout",
     "output_type": "stream",
     "text": [
      "Features: ['A', 'DayOfWeek', 'lag_1', 'lag_7', 'FA', 'Month', 'Year']\n",
      "\n",
      "X_train shape: (243, 7), X_test shape: (242, 7)\n",
      "y_train shape: (243,), y_test shape: (242,)\n",
      "\n",
      "X_train shape: (485, 7), X_test shape: (242, 7)\n",
      "y_train shape: (485,), y_test shape: (242,)\n",
      "\n",
      "X_train shape: (727, 7), X_test shape: (242, 7)\n",
      "y_train shape: (727,), y_test shape: (242,)\n",
      "\n",
      "X_train shape: (969, 7), X_test shape: (242, 7)\n",
      "y_train shape: (969,), y_test shape: (242,)\n",
      "\n",
      "X_train shape: (1211, 7), X_test shape: (242, 7)\n",
      "y_train shape: (1211,), y_test shape: (242,)\n"
     ]
    }
   ],
   "source": [
    "print(f\"Features: {features}\")\n",
    "\n",
    "sales_lag_df['DATE'] = pd.to_datetime(sales_lag_df['DATE'], errors='coerce')\n",
    "sales_lag_df.set_index('DATE', inplace=True)\n",
    "sales_lag_df = sales_lag_df.asfreq('D')\n",
    "\n",
    "X = sales_lag_df[features] \n",
    "#y = sales_lag_df['SALES']\n",
    "y = sales_lag_df['sales_detrended']  # differentitated target\n",
    "\n",
    "\n",
    "tscv = TimeSeriesSplit(n_splits=5)\n",
    "\n",
    "for train_index, test_index in tscv.split(X):\n",
    "    X_train, X_test = X.iloc[train_index], X.iloc[test_index]\n",
    "    y_train, y_test = y.iloc[train_index], y.iloc[test_index]\n",
    "    \n",
    "    print(f\"\\nX_train shape: {X_train.shape}, X_test shape: {X_test.shape}\")\n",
    "    print(f\"y_train shape: {y_train.shape}, y_test shape: {y_test.shape}\")"
   ]
  },
  {
   "cell_type": "markdown",
   "metadata": {},
   "source": [
    "We can build an ARIMA model on each training set and evaluate its performance on the corresponding test set."
   ]
  },
  {
   "cell_type": "markdown",
   "metadata": {},
   "source": [
    "It is necessary to choose the $d$, $p$ and $q$ for the ARIMA model. This model combines Auto Regression(AR), Moving Average(MA) and differencing(I). Equations below show the meaning of $p$ and $q$.\n",
    "\n",
    "\n",
    "- Autoregression AR($p$): $y_t = \\alpha + \\beta_1 y_{t-1} + \\beta_2 y_{t-2} + \\beta_3 y_{t-3} + \\dots + \\beta_{p} y_{t-p}$\n",
    "\n",
    "- Moving average MA($q$): $y_t = \\mu + \\epsilon_{t} + \\omega_{1} \\epsilon_{t-1} + \\omega_{2} \\epsilon_{t-2} + \\omega_{3} \\epsilon_{t-3} + \\dots + \\omega_{q} \\epsilon_{t-q}$\n",
    "\n",
    "- ARMA($p,q$): $y_t = \\alpha + \\epsilon_{t} + \\sum_{i=1}^{p} \\beta_i y_{t-i} + \\sum_{j=1}^{q} \\omega_j \\epsilon_{t-j}$\n",
    "\n",
    "\n",
    "Since we have differenciated our data once, we can set `d=0`."
   ]
  },
  {
   "cell_type": "code",
   "execution_count": 86,
   "metadata": {},
   "outputs": [
    {
     "data": {
      "image/png": "[encoded data removed]",
      "text/plain": [
       "<Figure size 1200x600 with 2 Axes>"
      ]
     },
     "metadata": {},
     "output_type": "display_data"
    }
   ],
   "source": [
    "plt.figure(figsize=(12, 6))\n",
    "\n",
    "# Plot ACF (for choosing q)\n",
    "plt.subplot(121)\n",
    "plot_acf(sales_lag_df['sales_detrended'], lags=40, ax=plt.gca())\n",
    "plt.title('ACF (Autocorrelation Function)')\n",
    "\n",
    "# Plot PACF (for choosing p)\n",
    "plt.subplot(122)\n",
    "plot_pacf(sales_lag_df['sales_detrended'], lags=40, ax=plt.gca())\n",
    "plt.title('PACF (Partial Autocorrelation Function)')\n",
    "\n",
    "plt.tight_layout()\n",
    "plt.show()"
   ]
  },
  {
   "cell_type": "code",
   "execution_count": 84,
   "metadata": {},
   "outputs": [
    {
     "name": "stderr",
     "output_type": "stream",
     "text": [
      "/opt/anaconda3/lib/python3.11/site-packages/statsmodels/tsa/base/tsa_model.py:473: ValueWarning: An unsupported index was provided and will be ignored when e.g. forecasting.\n",
      "  self._init_dates(dates, freq)\n",
      "/opt/anaconda3/lib/python3.11/site-packages/statsmodels/tsa/base/tsa_model.py:473: ValueWarning: An unsupported index was provided and will be ignored when e.g. forecasting.\n",
      "  self._init_dates(dates, freq)\n",
      "/opt/anaconda3/lib/python3.11/site-packages/statsmodels/tsa/base/tsa_model.py:473: ValueWarning: An unsupported index was provided and will be ignored when e.g. forecasting.\n",
      "  self._init_dates(dates, freq)\n",
      "/opt/anaconda3/lib/python3.11/site-packages/statsmodels/tsa/base/tsa_model.py:836: ValueWarning: No supported index is available. Prediction results will be given with an integer index beginning at `start`.\n",
      "  return get_prediction_index(\n",
      "/opt/anaconda3/lib/python3.11/site-packages/statsmodels/tsa/base/tsa_model.py:836: FutureWarning: No supported index is available. In the next version, calling this method in a model without a supported index will result in an exception.\n",
      "  return get_prediction_index(\n",
      "/opt/anaconda3/lib/python3.11/site-packages/statsmodels/tsa/base/tsa_model.py:473: ValueWarning: An unsupported index was provided and will be ignored when e.g. forecasting.\n",
      "  self._init_dates(dates, freq)\n",
      "/opt/anaconda3/lib/python3.11/site-packages/statsmodels/tsa/base/tsa_model.py:473: ValueWarning: An unsupported index was provided and will be ignored when e.g. forecasting.\n",
      "  self._init_dates(dates, freq)\n",
      "/opt/anaconda3/lib/python3.11/site-packages/statsmodels/tsa/base/tsa_model.py:473: ValueWarning: An unsupported index was provided and will be ignored when e.g. forecasting.\n",
      "  self._init_dates(dates, freq)\n"
     ]
    },
    {
     "name": "stdout",
     "output_type": "stream",
     "text": [
      "Mean Squared Error on this fold: 6468113082446251.0\n",
      "Predicted Sales (reconstructed): [ 9.07994719e+06  8.26886930e+06  1.01015070e+07  1.32242196e+07\n",
      " -2.98678443e+06  9.95862995e+06  6.68342485e+06  4.92607942e+06\n",
      "  4.41082915e+06  5.53674264e+06  8.49331919e+06 -6.01346837e+06\n",
      "  5.98328575e+06  3.34288590e+06  6.90339648e+05  4.82681196e+05\n",
      "  1.15649773e+06  3.95569579e+06 -9.03636589e+06  1.95761686e+06\n",
      " -2.06451781e+05 -3.57479262e+06 -3.46106786e+06 -3.06689391e+06\n",
      " -4.44396262e+05 -1.21044416e+07 -2.12297526e+06 -3.91537209e+06\n",
      " -7.82619202e+06 -7.39431674e+06 -7.16557643e+06 -4.75298679e+06\n",
      " -1.52448024e+07 -6.25079920e+06 -7.73958861e+06 -1.20371197e+07\n",
      " -1.13069368e+07 -1.11722305e+07 -9.00425720e+06 -1.84689635e+07\n",
      " -1.04121651e+07 -1.16426135e+07 -1.61939512e+07 -1.51986408e+07\n",
      " -1.51161759e+07 -1.32215872e+07 -2.17778609e+07 -1.45919243e+07\n",
      " -1.55963828e+07 -2.02927287e+07 -1.90743275e+07 -1.90215104e+07\n",
      " -1.74194658e+07 -2.51659928e+07 -1.87762235e+07 -1.95806474e+07\n",
      " -2.43359656e+07 -2.29408595e+07 -2.29066237e+07 -2.16056717e+07\n",
      " -2.86245626e+07 -2.29539063e+07 -2.35817265e+07 -2.83299833e+07\n",
      " -2.68050396e+07 -2.67845662e+07 -2.57833418e+07 -3.21436785e+07\n",
      " -2.71169736e+07 -2.75910429e+07 -3.22828789e+07 -3.06725098e+07\n",
      " -3.06638672e+07 -2.99527218e+07 -3.57137502e+07 -3.12604482e+07\n",
      " -3.16037065e+07 -3.62031020e+07 -3.45473057e+07 -3.45495175e+07\n",
      " -3.41125225e+07 -3.93262614e+07 -3.53819153e+07 -3.56172933e+07\n",
      " -4.00985567e+07 -3.84318327e+07 -3.84439347e+07 -3.82608831e+07\n",
      " -4.29740931e+07 -3.94809330e+07 -3.96308793e+07 -4.39761144e+07\n",
      " -4.23270823e+07 -4.23478042e+07 -4.23959925e+07 -4.66515528e+07\n",
      " -4.35584389e+07 -4.36443347e+07 -4.78414265e+07 -4.62329564e+07\n",
      " -4.62607535e+07 -4.65164369e+07 -5.03542319e+07 -4.76162277e+07\n",
      " -4.76578483e+07 -5.16989334e+07 -5.01486091e+07 -5.01818530e+07\n",
      " -5.06213490e+07 -5.40787826e+07 -5.16565321e+07 -5.16716397e+07\n",
      " -5.55519884e+07 -5.40727553e+07 -5.41099589e+07 -5.47104223e+07\n",
      " -5.78226760e+07 -5.56817138e+07 -5.56858103e+07 -5.94030367e+07\n",
      " -5.80039194e+07 -5.80439282e+07 -5.87838476e+07 -6.15839770e+07\n",
      " -5.96940566e+07 -5.97002900e+07 -6.32538054e+07 -6.19406174e+07\n",
      " -6.19827356e+07 -6.28422102e+07 -6.53611581e+07 -6.36956431e+07\n",
      " -6.37148431e+07 -6.71054817e+07 -6.58814766e+07 -6.59255223e+07\n",
      " -6.68863765e+07 -6.91529548e+07 -6.76882952e+07 -6.77291059e+07\n",
      " -7.09588634e+07 -6.98253033e+07 -6.98716007e+07 -7.09173895e+07\n",
      " -7.29582637e+07 -7.16735595e+07 -7.17426354e+07 -7.48144787e+07\n",
      " -7.37711099e+07 -7.38204359e+07 -7.49363790e+07 -7.67760760e+07\n",
      " -7.56527210e+07 -7.57549583e+07 -7.86726758e+07 -7.77181147e+07\n",
      " -7.77716144e+07 -7.89444934e+07 -8.06054386e+07 -7.96268322e+07\n",
      " -7.97656117e+07 -8.25336855e+07 -8.16657245e+07 -8.17248129e+07\n",
      " -8.29428508e+07 -8.44454353e+07 -8.35967489e+07 -8.37741733e+07\n",
      " -8.63976626e+07 -8.56135078e+07 -8.56797695e+07 -8.69325073e+07\n",
      " -8.82951813e+07 -8.75631659e+07 -8.77802814e+07 -9.02647125e+07\n",
      " -8.95611650e+07 -8.96362606e+07 -9.09144395e+07 -9.21538252e+07\n",
      " -9.15266496e+07 -9.17836445e+07 -9.41349053e+07 -9.35085000e+07\n",
      " -9.35940849e+07 -9.48895372e+07 -9.60205540e+07 -9.54876652e+07\n",
      " -9.57840442e+07 -9.80082837e+07 -9.74553938e+07 -9.75530529e+07\n",
      " -9.88586031e+07 -9.98945999e+07 -9.94465990e+07 -9.97813316e+07\n",
      " -1.01884867e+08 -1.01401784e+08 -1.01512981e+08 -1.02822357e+08\n",
      " -1.03775245e+08 -1.03403775e+08 -1.03775421e+08 -1.05764652e+08\n",
      " -1.05347647e+08 -1.05473688e+08 -1.06781443e+08 -1.07661825e+08\n",
      " -1.07359469e+08 -1.07766281e+08 -1.09647615e+08 -1.09292986e+08\n",
      " -1.09435000e+08 -1.10736436e+08 -1.11553731e+08 -1.11313913e+08\n",
      " -1.11753927e+08 -1.13533713e+08 -1.13237820e+08 -1.13396746e+08\n",
      " -1.14687850e+08 -1.15450409e+08 -1.15267310e+08 -1.15738410e+08\n",
      " -1.17422881e+08 -1.17182180e+08 -1.17358764e+08 -1.18636144e+08\n",
      " -1.19351360e+08 -1.19219830e+08 -1.19719809e+08 -1.21315042e+08\n",
      " -1.21126100e+08 -1.21320900e+08 -1.22581728e+08 -1.23256133e+08\n",
      " -1.23171618e+08 -1.23698227e+08 -1.25210102e+08 -1.25069619e+08\n",
      " -1.25283013e+08 -1.26524972e+08]\n",
      "Actual Sales: [1.18110230e+07 1.32109493e+07 1.22801767e+07 1.85264055e+07\n",
      " 4.74382400e+04 1.34000138e+07 1.13030006e+07 1.09725764e+07\n",
      " 1.11909433e+07 1.41152496e+07 1.76857091e+07 4.08523520e+04\n",
      " 1.23113959e+07 1.10382246e+07 1.04607738e+07 1.03372083e+07\n",
      " 1.49134981e+07 1.82542228e+07 4.12587680e+04 1.29286795e+07\n",
      " 1.16329472e+07 1.17176617e+07 1.25215365e+07 1.57344892e+07\n",
      " 1.99286791e+07 4.92152900e+04 1.29561603e+07 1.17604122e+07\n",
      " 1.08430914e+07 1.27962919e+07 1.28940971e+07 2.13488549e+07\n",
      " 4.77579600e+04 1.13332206e+06 1.46133217e+07 1.17207504e+07\n",
      " 1.10283497e+07 1.44042576e+07 1.85208954e+07 4.30492200e+04\n",
      " 1.18457223e+07 1.06372925e+07 1.00557704e+07 1.04501148e+07\n",
      " 1.42698785e+07 1.79460046e+07 4.55397360e+04 1.30225516e+07\n",
      " 1.12390614e+07 1.07095779e+07 1.14538677e+07 1.59966127e+07\n",
      " 2.06305013e+07 1.14334156e+05 8.02852233e+06 1.36762915e+07\n",
      " 1.16095215e+07 1.14429597e+07 1.48779594e+07 1.90349646e+07\n",
      " 4.54073280e+04 1.15728071e+07 1.15551127e+07 1.04836835e+07\n",
      " 1.07475369e+07 1.44307390e+07 1.82211343e+07 4.25694700e+04\n",
      " 1.17701290e+07 1.05376952e+07 9.91331051e+06 1.03535196e+07\n",
      " 1.42190671e+07 1.81137790e+07 4.35970880e+04 1.15208366e+07\n",
      " 1.02677988e+07 1.11220758e+07 1.18052235e+07 1.52307179e+07\n",
      " 2.02658619e+07 7.73456920e+04 1.36077723e+07 1.30200055e+07\n",
      " 1.21581954e+07 1.24728746e+07 1.69608391e+07 2.15878203e+07\n",
      " 6.79299424e+05 1.13883562e+07 1.85276984e+05 1.51606151e+07\n",
      " 1.32927108e+07 1.56036081e+07 1.96063782e+07 1.03412934e+05\n",
      " 1.28432759e+07 1.18069557e+07 1.16203868e+07 1.20932899e+07\n",
      " 1.52748991e+07 2.05070559e+07 1.89171082e+05 1.61422495e+07\n",
      " 1.75884703e+07 2.35482470e+07 1.97709097e+07 0.00000000e+00\n",
      " 1.26697952e+07 3.84555372e+05 1.55193916e+07 1.60700699e+07\n",
      " 2.16928231e+07 1.91443664e+07 2.87080600e+03 1.62860393e+07\n",
      " 1.12850788e+05 1.60779731e+07 1.67493064e+07 0.00000000e+00\n",
      " 1.38995850e+07 1.51631090e+07 1.91424696e+07 6.04416520e+04\n",
      " 1.37017511e+07 1.15611480e+07 1.04987181e+07 1.06256961e+07\n",
      " 1.42593849e+07 1.84136547e+07 2.88409800e+04 1.20912401e+07\n",
      " 1.07025813e+07 9.65963176e+06 1.06493075e+07 1.35594879e+07\n",
      " 1.78605724e+07 2.79027580e+04 1.24045152e+07 1.11391488e+07\n",
      " 1.03562802e+07 1.09306039e+07 1.50105852e+07 1.95506786e+07\n",
      " 3.27949920e+04 1.32638173e+07 1.14017204e+07 1.10696916e+07\n",
      " 1.13098352e+07 1.46665965e+07 1.88307538e+07 2.93614420e+04\n",
      " 1.24987958e+07 1.03165526e+07 1.12267402e+07 1.14172679e+07\n",
      " 1.44013011e+07 1.87284868e+07 2.41682720e+04 1.19170570e+07\n",
      " 1.07985773e+07 1.01156531e+07 1.06083072e+07 1.43328992e+07\n",
      " 1.78798945e+07 2.70850480e+04 1.17627701e+07 1.04315225e+07\n",
      " 9.93953775e+06 1.18399391e+07 1.62136567e+07 2.01985085e+07\n",
      " 3.36726620e+04 1.07815107e+07 1.26358552e+07 1.17992834e+07\n",
      " 1.19151701e+07 1.55850110e+07 1.94934066e+07 2.99049820e+04\n",
      " 1.26460806e+07 1.11364081e+07 1.03906195e+07 1.14638800e+07\n",
      " 1.48110806e+07 1.84434950e+07 2.84851820e+04 1.20386643e+07\n",
      " 1.09337055e+07 1.04965562e+07 1.14990307e+07 1.59148175e+07\n",
      " 1.56748257e+07 3.40681960e+04 1.38725553e+07 1.33361942e+07\n",
      " 1.76100225e+07 9.62325008e+06 3.76836034e+05 1.98766435e+07\n",
      " 4.75248480e+04 9.41528344e+06 1.37967563e+07 1.20884012e+07\n",
      " 1.25556153e+07 1.62713021e+07 2.05880933e+07 3.26282620e+04\n",
      " 1.20726654e+07 1.24820931e+07 1.11480203e+07 1.10391001e+07\n",
      " 1.48982461e+07 1.87654015e+07 2.96857620e+04 1.29903497e+07\n",
      " 1.12346946e+07 1.02823810e+07 1.07167639e+07 1.44267648e+07\n",
      " 1.85189318e+07 2.70173200e+04 1.22274663e+07 1.09529470e+07\n",
      " 1.03965358e+07 1.08148890e+07 1.49272127e+07 1.61580821e+07\n",
      " 3.05227260e+04 1.32896513e+07 1.17819726e+07 1.11880612e+07\n",
      " 1.20393140e+07 1.67145851e+07 2.09921966e+07 1.05050600e+03\n",
      " 6.72280545e+06 1.43185047e+07 1.24117889e+07 1.23395481e+07\n",
      " 1.56337056e+07 1.93266646e+07]\n",
      "Mean Squared Error on this fold: 472435129985547.5\n",
      "Predicted Sales (reconstructed): [ 1773039.95703121  9121745.22461907 17050447.93809043 13998613.24995502\n",
      " 12826566.59189782 14928471.48617302 18667998.68929479  4089305.04406614\n",
      " 11427437.79162116 19034463.20884948 14935650.30791654 13154136.21294475\n",
      " 14771096.28797952 18741502.47195259  6593170.55624058 13440982.14790042\n",
      " 20407035.46575891 15535246.471855   13567499.0453884  15124167.9521629\n",
      " 19292898.11463648  9040310.276828   15111936.16270356 21348522.23189755\n",
      " 16030873.4153098  14178568.38505096 15878893.43415739 20107975.82763179\n",
      " 11297536.10929515 16476563.6601819  22033016.83224825 16570896.90949233\n",
      " 15008138.50369459 16906126.87566008 21031410.26029442 13316430.4360267\n",
      " 17611548.09250387 22601017.04806979 17230625.56002462 16024545.26795028\n",
      " 18087923.35166308 21966671.83497705 15104085.35419798 18601708.64123309\n",
      " 23150360.45509744 18031777.99789901 17173810.4450656  19332859.51719056\n",
      " 22865682.71768004 16697376.06997909 19521012.76434472 23738709.22445184\n",
      " 18962574.26014848 18399876.86060752 20579805.92019796 23714699.50057185\n",
      " 18143666.99109886 20424164.91138553 24391900.6884799  19994637.37497079\n",
      " 19655909.73711684 21794730.17797356 24520616.70253318 19488404.95886524\n",
      " 21345434.54708064 25114037.10972185 21095185.20105056 20908759.67988818\n",
      " 22964250.36003629 25299903.01961728 20768641.62860574 22301635.20595165\n",
      " 25896759.96974209 22234509.68119169 22138926.52299137 24088537.3062278\n",
      " 26070914.12569106 22010924.54691287 23296843.04440237 26726458.64485517\n",
      " 23389568.35839653 23338086.43935234 25175098.153035   26849395.16737249\n",
      " 23231941.22260509 24327234.96787091 27589093.59366872 24544819.76456398\n",
      " 24505732.57016111 26234123.2654128  27646511.53080182 24440553.30335473\n",
      " 25385141.94400221 28472877.39593428 25691403.26762856 25645928.68490136\n",
      " 27275495.61791644 28468603.70090594 25640234.48467657 26461961.78691173\n",
      " 29369321.40772714 26825554.19027651 26764700.07925914 28307226.23221314\n",
      " 29317925.19224908 26831303.79260915 27549937.24956951 30273210.99433471\n",
      " 27946874.52577771 27868235.01432025 29334937.68688189 30193786.88586554\n",
      " 28012658.5018134  28643001.42820092 31182003.75593773 29056823.37027041\n",
      " 28961848.3974193  30362006.63517302 31093721.83267575 29182933.15799254\n",
      " 29736964.09344843 32095021.16112335 30157587.65697277 30049547.12146683\n",
      " 31390038.29834031 32014456.26332976 30341145.16435468 30829303.70353722\n",
      " 33012671.49767901 31251354.62193738 31134003.46820986 32419436.94006737\n",
      " 32952603.75052325 31486949.81784147 31918778.66230021 33935828.12625203\n",
      " 32339927.75762257 32216758.97012588 33449927.24013357 33905085.61216664\n",
      " 32620640.15784703 33005006.07211452 34865403.19303245 33424594.72994494\n",
      " 33298521.02528745 34480956.41031308 34869327.11510491 33743010.05385576\n",
      " 34088094.65653962 35802104.22651108 34506153.58200833 34379460.50025252\n",
      " 35511959.98391936 35843295.73096625 34855168.95795329 35168369.77307358\n",
      " 36746334.50880875 35585018.747139   35459459.73643579 36542506.0984575\n",
      " 36825445.21964694 35958364.88570044 36246195.21042579 37698190.51115401\n",
      " 36661350.39392647 36538291.74028628 37572347.83895818 37814616.81677411\n",
      " 37053844.89775967 37321877.52358914 38657513.73803869 37735172.48227394\n",
      " 37615731.85052793 38601416.03395709 38809933.02219295 38142762.34107085\n",
      " 38395630.82381568 39623964.02468733 38806462.86081292 38691614.17314988\n",
      " 39629780.72932836 39810704.67902538 39226127.57215706 39467579.53051832\n",
      " 40597092.41102685 39875211.41577814 39765848.95286909 40657602.32106077\n",
      " 40816360.3458475  40304792.6246924  40537780.30171539 41576401.60414053\n",
      " 40941449.86792475 40838416.36253416 41685085.67921743 41826399.02344356\n",
      " 41379458.54361086 41606249.6647296  42561389.54815863 42005260.29679126\n",
      " 41909349.13217891 42712444.06944471 42840362.78763164 42450695.13934849\n",
      " 42672989.11395235 43551576.51283477 43066770.10894442 42978712.61875939\n",
      " 43739874.91130454 43857824.0284813  43518965.27854466 43738003.73570986\n",
      " 44546518.72070359 44126140.14329958 44046587.34836537 44767546.44255065\n",
      " 44878381.9173061  44584648.50309043 44801313.44230645 45545812.4382256\n",
      " 45183550.85888752 45113056.25311565 45795592.890881   45901663.62255594\n",
      " 45648061.14734598 45862957.69694559 46549092.27357413 46239189.71600027\n",
      " 46178196.91932952 46824115.36560389 46927327.07029456 46709471.92272875\n",
      " 46922995.42932843 47556026.67862338 47293241.30311849 47242078.08249059\n",
      " 47853185.95058759 47955063.29964937 47769113.10770574 47981501.98170647\n",
      " 48566312.73054463 48345880.62863331]\n",
      "Actual Sales: [3.40441840e+04 1.27246485e+07 1.18371550e+07 1.09141486e+07\n",
      " 1.15763965e+07 1.48016478e+07 1.81047382e+07 5.69983300e+04\n",
      " 9.80288124e+06 1.17957049e+07 1.09535235e+07 1.11345427e+07\n",
      " 1.44637805e+07 1.80066894e+07 3.26754880e+04 1.25910454e+07\n",
      " 1.10844504e+07 1.19842916e+07 1.12952663e+07 1.57636772e+07\n",
      " 1.97731318e+07 2.89738180e+04 1.28449300e+07 1.23547784e+07\n",
      " 1.28080517e+07 1.28863751e+07 1.59428931e+07 1.98742926e+07\n",
      " 3.14220760e+04 1.38804330e+07 1.21444757e+07 1.15737577e+07\n",
      " 1.12696054e+07 1.58439087e+07 1.89522068e+07 2.85931860e+04\n",
      " 1.32701539e+07 1.18765383e+07 1.13408926e+07 1.17180700e+07\n",
      " 1.46635222e+07 1.86133759e+07 3.81512420e+04 1.30811115e+07\n",
      " 1.18583878e+07 1.19182967e+07 1.40992035e+07 1.11911155e+07\n",
      " 2.00407555e+07 4.16537680e+04 1.44546623e+07 1.33169732e+07\n",
      " 1.19635700e+07 1.32831763e+07 1.70513663e+07 2.08044737e+07\n",
      " 1.23690766e+05 1.51293395e+07 1.33057129e+07 1.22743327e+07\n",
      " 1.26235664e+07 1.54080396e+07 1.89557588e+07 1.05972582e+05\n",
      " 1.49427800e+07 1.27414660e+07 1.17961589e+07 1.21462018e+07\n",
      " 1.52731707e+07 1.83504889e+07 3.30216956e+05 1.48016492e+07\n",
      " 1.24946839e+07 1.18079640e+07 1.22035930e+07 1.51285570e+07\n",
      " 1.85462719e+07 3.99465792e+05 1.22812351e+07 1.34291929e+07\n",
      " 1.22610916e+07 1.24229272e+07 1.58111980e+07 1.97536861e+07\n",
      " 5.24189902e+05 1.74885025e+07 1.42868127e+07 1.29233939e+07\n",
      " 1.32732341e+07 1.52651764e+07 1.80553682e+07 5.20380456e+05\n",
      " 1.54695070e+07 1.31669996e+07 1.27911375e+07 1.27850288e+07\n",
      " 1.53293258e+07 1.93106473e+07 6.17629904e+05 1.87091664e+07\n",
      " 1.31871619e+06 1.62069956e+07 1.32379095e+07 1.46705759e+07\n",
      " 1.67994922e+07 4.41454375e+05 1.53525145e+07 1.26192938e+07\n",
      " 1.17787728e+07 1.17781344e+07 1.49868753e+07 1.73837835e+07\n",
      " 2.13590213e+05 1.49814073e+07 1.29491072e+07 1.28949638e+07\n",
      " 1.35101828e+07 1.55802124e+07 1.93226404e+07 6.50046220e+04\n",
      " 1.47285454e+07 1.31012643e+07 1.27680555e+07 1.01989953e+07\n",
      " 1.52690810e+07 1.90044090e+07 4.76444800e+04 1.45709472e+07\n",
      " 1.24411205e+07 1.15473795e+07 1.14574385e+07 1.44736580e+07\n",
      " 1.85428521e+07 3.02843380e+04 1.32815261e+07 1.15860195e+07\n",
      " 1.06611097e+07 1.12239653e+07 1.44421462e+07 1.76697953e+07\n",
      " 3.08873180e+04 1.41576652e+07 1.20394111e+07 1.14066667e+07\n",
      " 1.16547541e+07 1.59746695e+07 2.07793935e+07 3.98736480e+04\n",
      " 1.43844049e+07 1.27052956e+07 1.17352206e+07 1.20217700e+07\n",
      " 1.49007664e+07 1.98094832e+07 3.50667900e+04 1.40444330e+07\n",
      " 1.65077538e+07 2.57014280e+04 1.39185031e+07 1.59033126e+07\n",
      " 1.88161310e+07 2.65479100e+04 1.29097687e+07 1.13734982e+07\n",
      " 1.05175420e+07 1.10128514e+07 1.48276341e+07 1.89425900e+07\n",
      " 2.76495860e+04 1.22284803e+07 1.19646547e+07 1.10815750e+07\n",
      " 1.16406444e+07 1.59568014e+07 2.03712473e+07 3.30066280e+04\n",
      " 1.80502916e+07 5.02501500e+04 1.55343882e+07 1.33460122e+07\n",
      " 1.63368627e+07 2.07517674e+07 2.90711400e+04 1.30578013e+07\n",
      " 1.16650953e+07 1.03784413e+07 1.18743051e+07 1.51204940e+07\n",
      " 1.92730771e+07 2.88274860e+04 1.25062924e+07 1.11062129e+07\n",
      " 1.04850580e+07 1.08452317e+07 1.49173649e+07 1.89181061e+07\n",
      " 2.73629080e+04 1.24275677e+07 1.09129809e+07 1.00793978e+07\n",
      " 1.08584401e+07 1.54484975e+07 2.06209647e+07 2.63533900e+04\n",
      " 1.32174682e+07 1.21702820e+07 1.22858410e+07 1.34553366e+07\n",
      " 1.73260921e+07 2.15976195e+07 9.97290260e+04 1.88372789e+07\n",
      " 1.65461024e+05 2.03910195e+07 1.71468442e+05 1.98094722e+07\n",
      " 1.95852585e+07 9.32388520e+04 1.45764112e+07 1.27455226e+07\n",
      " 1.20125721e+07 1.26534311e+07 1.55668812e+07 2.04012848e+07\n",
      " 1.20196690e+05 1.47460750e+07 1.49235511e+07 1.55115679e+07\n",
      " 1.74865800e+07 2.47510195e+07 2.03618704e+07 0.00000000e+00\n",
      " 1.35096306e+06 1.50839092e+07 1.34971625e+07 1.60159991e+07\n",
      " 2.31396268e+07 1.94135356e+07 5.80000000e-01 7.94862479e+06\n",
      " 1.33248598e+07 1.40051119e+07]\n"
     ]
    },
    {
     "name": "stderr",
     "output_type": "stream",
     "text": [
      "/opt/anaconda3/lib/python3.11/site-packages/statsmodels/tsa/base/tsa_model.py:836: ValueWarning: No supported index is available. Prediction results will be given with an integer index beginning at `start`.\n",
      "  return get_prediction_index(\n",
      "/opt/anaconda3/lib/python3.11/site-packages/statsmodels/tsa/base/tsa_model.py:836: FutureWarning: No supported index is available. In the next version, calling this method in a model without a supported index will result in an exception.\n",
      "  return get_prediction_index(\n",
      "/opt/anaconda3/lib/python3.11/site-packages/statsmodels/tsa/base/tsa_model.py:473: ValueWarning: An unsupported index was provided and will be ignored when e.g. forecasting.\n",
      "  self._init_dates(dates, freq)\n",
      "/opt/anaconda3/lib/python3.11/site-packages/statsmodels/tsa/base/tsa_model.py:473: ValueWarning: An unsupported index was provided and will be ignored when e.g. forecasting.\n",
      "  self._init_dates(dates, freq)\n",
      "/opt/anaconda3/lib/python3.11/site-packages/statsmodels/tsa/base/tsa_model.py:473: ValueWarning: An unsupported index was provided and will be ignored when e.g. forecasting.\n",
      "  self._init_dates(dates, freq)\n",
      "/opt/anaconda3/lib/python3.11/site-packages/statsmodels/tsa/base/tsa_model.py:836: ValueWarning: No supported index is available. Prediction results will be given with an integer index beginning at `start`.\n",
      "  return get_prediction_index(\n",
      "/opt/anaconda3/lib/python3.11/site-packages/statsmodels/tsa/base/tsa_model.py:836: FutureWarning: No supported index is available. In the next version, calling this method in a model without a supported index will result in an exception.\n",
      "  return get_prediction_index(\n",
      "/opt/anaconda3/lib/python3.11/site-packages/statsmodels/tsa/base/tsa_model.py:473: ValueWarning: An unsupported index was provided and will be ignored when e.g. forecasting.\n",
      "  self._init_dates(dates, freq)\n",
      "/opt/anaconda3/lib/python3.11/site-packages/statsmodels/tsa/base/tsa_model.py:473: ValueWarning: An unsupported index was provided and will be ignored when e.g. forecasting.\n",
      "  self._init_dates(dates, freq)\n",
      "/opt/anaconda3/lib/python3.11/site-packages/statsmodels/tsa/base/tsa_model.py:473: ValueWarning: An unsupported index was provided and will be ignored when e.g. forecasting.\n",
      "  self._init_dates(dates, freq)\n"
     ]
    },
    {
     "name": "stdout",
     "output_type": "stream",
     "text": [
      "Mean Squared Error on this fold: 1632738784113077.2\n",
      "Predicted Sales (reconstructed): [ 12964621.63941098  18921342.66849684  14974864.42766168\n",
      "  -1032329.97485382   7459841.28148755  13274628.02051364\n",
      "  12395379.44559001  10306258.75548797  14758225.96419608\n",
      "  11561803.8689526   -1784617.87652693   6901176.62734209\n",
      "  12519336.76475709  10288410.57527891   7517673.92136119\n",
      "  11115854.45588548   8757244.17996741  -2358367.55230631\n",
      "   6084041.58164858  11205087.9725397    7867846.54203483\n",
      "   4776030.30206769   7954319.5161184    6393262.17219925\n",
      "  -2926969.38231704   4969404.63346931   9455134.81740155\n",
      "   5299148.96510544   2174159.7509599    5203918.97985108\n",
      "   4317660.46014245  -3601524.69650631   3565972.48590578\n",
      "   7393172.12942505   2702779.46028733   -248370.04540483\n",
      "   2778669.33251039   2407004.58470974  -4443635.76360449\n",
      "   1911875.10965554   5129639.40400756    158130.07780564\n",
      "  -2489085.93010762    591471.40666953    568873.38770396\n",
      "  -5477142.38532        59250.41448099   2755059.32501023\n",
      "  -2289834.80543976  -4568475.67159815  -1436353.05130933\n",
      "  -1260033.52272567  -6699521.6267849   -1936828.7209045\n",
      "    337983.99761336  -4622690.758142    -6518783.55808269\n",
      "  -3369977.61626335  -3118209.1043324   -8091830.5589458\n",
      "  -4025549.30434076  -2073955.90516838  -6840746.9623916\n",
      "  -8375821.34484014  -5259316.40423711  -5024692.27463008\n",
      "  -9626677.06604575  -6164365.22983174  -4451178.21610402\n",
      "  -8956133.96896132 -10173528.64655351  -7139538.24946238\n",
      "  -6984491.41972192 -11274108.15766093  -8320589.05737895\n",
      "  -6778445.15269985 -10987195.43396382 -11940823.15250184\n",
      "  -9032944.9650058   -8993467.01310146 -13005569.68985453\n",
      " -10471309.27538272  -9051035.77986824 -12954298.7478805\n",
      " -13700209.58382028 -10951502.6628808  -11042351.38232735\n",
      " -14796239.7974138  -12602274.31646867 -11271249.49050023\n",
      " -14876983.39241894 -15467628.65024325 -12899512.28604594\n",
      " -13119798.15703414 -16626098.48631923 -14706253.79100225\n",
      " -13445488.3609061  -16772252.44318227 -17253090.49816938\n",
      " -14876083.58960909 -15214498.99236037 -18480094.52524875\n",
      " -16781251.09424296 -15582010.94749337 -18653762.88621661\n",
      " -19061725.31343069 -16877223.88251553 -17316491.41783956\n",
      " -20347731.29583815 -18828816.44091783 -17689343.40461221\n",
      " -20531665.671464   -20894978.00175982 -18897464.8050313\n",
      " -19417822.04169361 -22222334.2207385  -20852604.6905324\n",
      " -19775268.83853697 -22412870.22970407 -22751761.82017479\n",
      " -20931028.48462738 -21512736.81835703 -24100197.48023563\n",
      " -22857241.59215102 -21846283.80723476 -24301547.2155478\n",
      " -24629460.42529596 -22972582.97627934 -23597556.27395272\n",
      " -25979746.11598519 -24847504.93558826 -23907402.83669066\n",
      " -26199727.57629556 -26524726.08086305 -25017661.85549051\n",
      " -25670367.99686245 -27860796.66204203 -26827790.78866096\n",
      " -25962199.57909038 -28107898.92832598 -28434063.6323447\n",
      " -27062830.40386218 -27730638.52944919 -29743957.55035203\n",
      " -28801815.57278335 -28012990.00052546 -30025537.5952514\n",
      " -30354217.01260949 -29105676.74355226 -29778817.01323553\n",
      " -31630180.02716383 -30772497.90621029 -30061083.56261557\n",
      " -31951544.59041147 -32282390.12628262 -31144695.36327533\n",
      " -31815976.59796006 -33520450.16608234 -32741965.9089067\n",
      " -32107049.10896261 -33884575.9032913  -34216339.90913761\n",
      " -33179116.47420141 -33843518.25798189 -35415601.02544081\n",
      " -34711642.5908564  -34150960.79495206 -35823272.26374211\n",
      " -36154378.98225122 -35208720.20146383 -35862945.6882489\n",
      " -37316219.06059266 -36682371.34858379 -36192604.70957089\n",
      " -37766402.25533193 -38095321.0472333  -37233661.4613612\n",
      " -37875709.05920333 -39222618.6047897  -38654553.5320072\n",
      " -38231638.43982852 -39712936.59998946 -40038395.92931949\n",
      " -39254320.42190799 -39883108.85255781 -41134860.8566103\n",
      " -40628279.24860289 -40267703.87638638 -41662072.00337887\n",
      " -41983154.38291135 -41271185.03642716 -41886247.84935722\n",
      " -43052797.97352725 -42603440.33319627 -42300498.53051499\n",
      " -43613221.34654739 -43929376.3688366  -43284766.21655884\n",
      " -43886018.65377232 -44976127.54335243 -44579820.44112204\n",
      " -44329813.15493911 -45565984.22279678 -45876991.03775853\n",
      " -45295542.46900003 -45883115.05773627 -46904447.19371373\n",
      " -46557161.52594175 -46355544.18809882 -47520108.5923781\n",
      " -47826012.34836751 -47303928.83685128 -47878057.3784503\n",
      " -48837302.99177948 -48535208.72910149 -48377689.07262138\n",
      " -49475451.17174528 -49776491.13521822 -49310264.30996075\n",
      " -49871224.09671149 -50774228.38919158 -50513737.22025476\n",
      " -50396331.33626033 -51431941.39925993 -51728482.40555181\n",
      " -51314812.07778307 -51862884.31504595 -52714772.74518014\n",
      " -52492565.09397931 -52411620.85428248 -53389551.57819252\n",
      " -53682025.50039629 -53317767.73571446 -53853227.50814252\n",
      " -54658519.98060729 -54471556.34601447 -54423753.21027122\n",
      " -55348274.12869605 -55637134.29048891 -55319271.5425286\n",
      " -55842388.63446494 -56605098.8000671 ]\n",
      "Actual Sales: [1.77730499e+07 7.55933400e+03 2.08438661e+07 8.27010120e+04\n",
      " 1.55287383e+07 1.31655193e+07 1.16010391e+07 1.14853285e+07\n",
      " 1.48953088e+07 1.93475553e+07 2.78179240e+04 1.31100171e+07\n",
      " 1.12385980e+07 1.04045514e+07 1.05289700e+07 1.41985727e+07\n",
      " 1.90014687e+07 2.75448920e+04 1.24359055e+07 1.09821222e+07\n",
      " 1.12758809e+07 1.15844212e+07 1.50707598e+07 1.94928841e+07\n",
      " 2.65919840e+04 1.29845273e+07 1.23157594e+07 1.23308475e+07\n",
      " 1.19259303e+07 1.59229147e+07 2.05503058e+07 2.93025280e+04\n",
      " 1.32882154e+07 1.16884616e+07 1.10347068e+07 1.13702162e+07\n",
      " 1.58333848e+07 1.97413492e+07 2.82925600e+04 1.28252127e+07\n",
      " 1.15222628e+07 1.03396630e+07 1.10662408e+07 1.46962840e+07\n",
      " 1.85465527e+07 2.69529480e+04 1.25751617e+07 1.10902450e+07\n",
      " 1.04051278e+07 1.09945184e+07 1.49174051e+07 1.92519353e+07\n",
      " 2.96328100e+04 1.51139432e+07 9.44452151e+06 1.32685308e+07\n",
      " 1.33873530e+07 1.67015567e+07 2.10959302e+07 3.03877420e+04\n",
      " 1.33781704e+07 1.19237984e+07 1.09564182e+07 1.14749474e+07\n",
      " 1.57567113e+07 1.93919617e+07 2.77343860e+04 1.33699129e+07\n",
      " 1.18174670e+07 1.09973541e+07 1.18040508e+07 1.47225828e+07\n",
      " 1.90182812e+07 2.46997240e+04 1.06566123e+07 1.21111904e+07\n",
      " 1.09684597e+07 1.12963215e+07 1.49719782e+07 1.98797791e+07\n",
      " 2.64656220e+04 1.33524487e+07 1.15747756e+07 1.11381597e+07\n",
      " 1.20609977e+07 1.65352690e+07 2.12679258e+07 3.19054400e+04\n",
      " 1.44995475e+07 1.26854103e+07 1.20099819e+07 1.25829926e+07\n",
      " 1.58577198e+07 2.04401874e+07 2.58534220e+04 1.51524035e+07\n",
      " 1.43460932e+07 1.90603985e+07 9.61100442e+06 3.90648598e+05\n",
      " 2.09684960e+07 5.07028460e+04 1.01247085e+07 1.45998608e+07\n",
      " 1.22202217e+07 1.19556381e+07 1.52072278e+07 1.97250210e+07\n",
      " 3.66836600e+04 1.08028145e+07 1.35470392e+07 1.23351094e+07\n",
      " 1.27005596e+07 1.76623322e+07 2.39664062e+07 1.78165148e+05\n",
      " 4.41120600e+03 1.67799543e+07 1.42838102e+07 1.34788245e+07\n",
      " 1.68115585e+07 2.08550995e+07 2.82194180e+04 1.34573765e+07\n",
      " 1.22830017e+07 1.21873935e+07 1.23763800e+07 1.59995910e+07\n",
      " 1.94292188e+07 3.00745840e+04 1.22733483e+07 1.25797067e+07\n",
      " 1.12500760e+07 1.19659976e+07 1.54230367e+07 1.90399046e+07\n",
      " 3.10752460e+04 1.35834395e+07 1.19793507e+07 1.13114753e+07\n",
      " 1.29414090e+07 1.63648511e+07 2.00720017e+07 2.78278920e+04\n",
      " 1.46486779e+07 1.23867775e+07 1.25123458e+07 1.40784095e+07\n",
      " 1.73663076e+07 2.20670943e+07 3.36506700e+04 1.40131765e+07\n",
      " 1.34061778e+07 1.23834855e+07 1.28191739e+07 1.52327714e+07\n",
      " 2.03763265e+07 2.89231360e+04 1.47196633e+07 1.29699224e+07\n",
      " 1.24520495e+07 1.18718133e+07 1.60949866e+07 2.00417448e+07\n",
      " 2.84783880e+04 1.46791755e+07 1.27079391e+07 1.22043845e+07\n",
      " 1.33195186e+07 1.77075201e+07 1.57794138e+07 6.42905240e+04\n",
      " 1.65670259e+07 1.38754323e+07 1.31294501e+07 1.28626423e+07\n",
      " 1.68679885e+07 2.21593786e+07 1.77778686e+05 1.62988510e+07\n",
      " 1.42482479e+07 1.34119697e+07 1.36421264e+07 1.62670424e+07\n",
      " 2.03692609e+07 2.18600804e+05 1.58597451e+07 1.34055404e+07\n",
      " 1.25795758e+07 1.30860535e+07 1.61810679e+07 2.01301106e+07\n",
      " 5.63198616e+05 1.55749906e+07 1.34974147e+07 1.24357733e+07\n",
      " 1.27588097e+07 1.57448388e+07 1.90464747e+07 5.86756008e+05\n",
      " 1.52101522e+07 1.27929086e+07 1.27574759e+07 1.31439535e+07\n",
      " 1.60619393e+07 2.02481493e+07 6.98693894e+05 1.72548578e+07\n",
      " 1.61250488e+07 1.41570662e+07 1.39502192e+07 1.63588223e+07\n",
      " 1.95647750e+07 8.11102282e+05 1.65780956e+07 1.41180053e+07\n",
      " 1.30776255e+07 1.36828875e+07 1.56732285e+07 1.86228010e+07\n",
      " 7.89037458e+05 1.98421534e+07 1.39857481e+06 1.71884565e+07\n",
      " 1.40395689e+07 1.55589945e+07 1.78168333e+07 4.68187904e+05\n",
      " 1.62822298e+07 1.33834912e+07 1.24920700e+07 1.24913929e+07\n",
      " 1.58944483e+07 1.84365081e+07 2.26524778e+05 1.58886492e+07\n",
      " 1.37332773e+07 1.30173394e+07 1.37737938e+07 1.66584676e+07\n",
      " 2.04342446e+07 7.38731900e+04]\n"
     ]
    },
    {
     "name": "stderr",
     "output_type": "stream",
     "text": [
      "/opt/anaconda3/lib/python3.11/site-packages/statsmodels/tsa/base/tsa_model.py:836: ValueWarning: No supported index is available. Prediction results will be given with an integer index beginning at `start`.\n",
      "  return get_prediction_index(\n",
      "/opt/anaconda3/lib/python3.11/site-packages/statsmodels/tsa/base/tsa_model.py:836: FutureWarning: No supported index is available. In the next version, calling this method in a model without a supported index will result in an exception.\n",
      "  return get_prediction_index(\n",
      "/opt/anaconda3/lib/python3.11/site-packages/statsmodels/tsa/base/tsa_model.py:473: ValueWarning: An unsupported index was provided and will be ignored when e.g. forecasting.\n",
      "  self._init_dates(dates, freq)\n",
      "/opt/anaconda3/lib/python3.11/site-packages/statsmodels/tsa/base/tsa_model.py:473: ValueWarning: An unsupported index was provided and will be ignored when e.g. forecasting.\n",
      "  self._init_dates(dates, freq)\n",
      "/opt/anaconda3/lib/python3.11/site-packages/statsmodels/tsa/base/tsa_model.py:473: ValueWarning: An unsupported index was provided and will be ignored when e.g. forecasting.\n",
      "  self._init_dates(dates, freq)\n"
     ]
    },
    {
     "name": "stdout",
     "output_type": "stream",
     "text": [
      "Mean Squared Error on this fold: 92312787294140.11\n",
      "Predicted Sales (reconstructed): [17260090.68979296 14935423.17626494 13602994.65948341 13817091.53326184\n",
      " 16001579.38469486 19462686.57977467  1934977.9835283  17617010.38917923\n",
      " 16242245.34251331 13672906.61020245 13916297.48533312 15558647.48022648\n",
      " 18916792.795483    3767165.86478981 17928678.18829921 17165187.20702656\n",
      " 13647242.61855531 14004751.09664495 15390329.14661236 18641614.8842359\n",
      "  5508999.5771353  18153204.30525203 17799784.64355507 13604713.73815741\n",
      " 14141261.78000166 15444687.08652605 18548180.71965061  7108831.17826293\n",
      " 18293040.32955379 18228496.95114112 13601022.5836275  14349115.2861372\n",
      " 15665366.37374673 18566355.85462378  8544849.98746908 18366561.43093289\n",
      " 18521861.99758247 13667754.69532263 14629966.6646718  15999070.35779563\n",
      " 18645847.00778631  9816221.2964612  18398646.52900631 18735426.12563307\n",
      " 13817577.37478334 14973081.07856851 16400550.54624681 18753921.61689792\n",
      " 10935450.1016655  18414243.08093783 18909704.18064743 14049725.51794717\n",
      " 15362236.95229433 16834656.83350496 18871917.21226957 11922154.66470594\n",
      " 18434619.02753839 19071885.89418163 14355012.02092448 15780395.42418468\n",
      " 17276386.66751036 18991457.04312159 12798441.14789177 18475660.33347759\n",
      " 19238386.1952619  14719928.5783395  16212489.59356712 17709725.46734712\n",
      " 19110957.50785948 13585795.32084375 18547585.51305668 19417597.79872015\n",
      " 15129691.99513409 16646770.12982836 18125899.04719514 19232738.46697545\n",
      " 14303257.29252584 18655530.92172362 19612438.788793   15570280.04377984\n",
      " 17075140.65312374 18521480.66891741 19360846.77969589 14966584.25232395\n",
      " 18800576.22966854 19822476.94120375 16029607.71016382 17492861.88325234\n",
      " 18896635.21958857 19499570.82657884 15588105.72158532 18980900.7622133\n",
      " 20045551.58581452 16498039.65117061 17897925.26358147 19253653.13152413\n",
      " 19652547.8467171  16177011.39728799 19192871.2182842  20278906.22263784\n",
      " 16968437.42925521 18290313.78858732 19595830.62420135 19822332.8872714\n",
      " 16739864.38916342 19431950.90683242 20519898.5194126  17435917.39138342\n",
      " 18671292.08065697 19926688.66106298 20010294.6409219  17281189.16494871\n",
      " 19693387.32823112 20766378.0380666  17897460.00950609 19042805.61452377\n",
      " 20249485.61369986 20216717.87802581 17804035.42288385 19972679.83931426\n",
      " 21016825.20594119 18351473.38478311 19407022.44037126 20566961.73291249\n",
      " 20441015.50962516 18310461.9671564  20265855.62499958 21270335.60662598\n",
      " 18797378.33415404 19766019.13858009 20881250.90620624 20681979.07919213\n",
      " 18801916.93015837 20569594.49403612 21526517.87223402 19235253.1864635\n",
      " 20121593.83478228 21193901.3857412  20938020.53643041 19279512.73631284\n",
      " 20881245.37144761 21785355.80847241 19665554.26541278 20475180.04882545\n",
      " 21505957.88225525 21207378.24451118 19744207.49907058 21198773.51520344\n",
      " 22047068.77473197 20088912.84098908 20827833.04378793 21818069.52050369\n",
      " 21488275.45819452 20196911.02023508 21520670.41961447 22311990.37052905\n",
      " 20506000.13064027 21180262.61089601 22130599.61484911 21779030.06401938\n",
      " 20638535.19885743 21845850.24816181 22580474.7752625  20917447.42498589\n",
      " 21532890.81259692 22443722.92127316 22078120.82043421 21070007.22123849\n",
      " 22173548.88066186 22852832.62621202 21323807.2539448  21885918.60277748\n",
      " 22757503.49680723 22384218.54879566 21492260.81757556 22503235.06274009\n",
      " 23129293.69081207 21725542.48872608 22239390.45673259 23071951.54669336\n",
      " 22696191.61996051 21906217.18126704 22834538.043556   23409991.20523361\n",
      " 22123032.41301184 22593250.60644646 23387060.93201671 23013094.48293917\n",
      " 22312763.54923254 23167192.49737772 23694961.98913553 22516587.36826457\n",
      " 22947387.94383948 23702830.74322618 23334146.56621836 22712734.33766474\n",
      " 23500999.27194905 23984156.73826689 22906466.0991121  23301669.10210117\n",
      " 24019274.94324229 23658707.15023445 23106897.29584152 23835799.32529339\n",
      " 24277455.77658115 23292892.11282202 23655960.76382548 24336423.93818839\n",
      " 23986250.09829839 23495945.4049232  24171457.81381212 24574686.66924739\n",
      " 23676067.09412222 24010143.05156534 24654321.3663953  24316340.84147944\n",
      " 23880494.13824426 24507855.41116485 24875641.22125354 24056180.66271254\n",
      " 24364116.12664895 24973018.64970539 24648616.83220983 24261083.09603608\n",
      " 24844884.34781187 25180090.3725545  24433416.57185484 24717802.03747034\n",
      " 25292569.09084548 24982771.82860805 24638180.79847919 25182447.19760226\n",
      " 25487796.28321029 24807955.90247941 25071143.570738   25613022.62652536\n",
      " 25318543.81709989 25012191.44208682 25520456.98527081 25798521.46604832\n",
      " 25179977.99882815 25424101.48368666]\n",
      "Actual Sales: [1.61661044e+07 1.39322596e+07 1.31540196e+07 1.39401441e+07\n",
      " 1.31199876e+07 2.10971016e+07 4.28995440e+04 1.40893646e+07\n",
      " 1.42493639e+07 1.27980205e+07 1.26839686e+07 1.53455810e+07\n",
      " 2.02021427e+07 3.08616880e+04 1.46896038e+07 1.25972629e+07\n",
      " 1.16583086e+07 1.19727150e+07 1.54712636e+07 1.96628880e+07\n",
      " 2.76023120e+04 1.48485102e+07 1.33158138e+07 1.22379883e+07\n",
      " 1.28214488e+07 1.64734318e+07 2.19727864e+07 3.20561080e+04\n",
      " 1.60307857e+07 1.28525940e+07 1.32347644e+07 1.30826444e+07\n",
      " 1.66147298e+07 2.14632656e+07 5.56104700e+04 1.21626767e+07\n",
      " 1.45617884e+07 1.77269754e+07 5.57368240e+04 1.90422896e+07\n",
      " 1.93128129e+07 2.83113460e+04 1.48430098e+07 1.28360014e+07\n",
      " 1.15921965e+07 1.19144064e+07 1.58090247e+07 2.04093974e+07\n",
      " 3.14028040e+04 1.39001285e+07 1.18474339e+07 1.24449543e+07\n",
      " 1.25278686e+07 1.62508815e+07 2.12358959e+07 3.32626160e+04\n",
      " 1.57518952e+07 1.78316554e+07 7.63693820e+04 1.69086899e+07\n",
      " 1.83412415e+07 2.27045811e+07 3.20868360e+04 1.48554188e+07\n",
      " 1.29820014e+07 1.19524780e+07 1.19156273e+07 1.66292322e+07\n",
      " 2.05804582e+07 2.98935180e+04 1.39581280e+07 1.21838814e+07\n",
      " 1.14156838e+07 1.17613655e+07 1.56925456e+07 2.00479596e+07\n",
      " 2.97257780e+04 1.34735865e+07 1.19199607e+07 1.11375155e+07\n",
      " 1.13830731e+07 1.49870433e+07 2.11384456e+07 2.91275980e+04\n",
      " 1.47899048e+07 1.32981988e+07 1.27723091e+07 1.37539713e+07\n",
      " 1.83003683e+07 2.36792440e+07 7.77992680e+04 1.63832912e+07\n",
      " 1.99487849e+07 1.45540426e+05 2.37455444e+07 2.02670402e+05\n",
      " 2.02157429e+07 8.57624520e+04 1.68364376e+07 1.44841679e+07\n",
      " 1.31230127e+07 1.33375359e+07 1.63828195e+07 2.20155795e+07\n",
      " 1.16354152e+05 1.61524037e+07 1.55030775e+07 1.55057249e+07\n",
      " 1.72737354e+07 2.15398629e+07 3.00333675e+07 9.94804287e+06\n",
      " 0.00000000e+00 1.07446680e+07 1.36984881e+07 1.50966639e+07\n",
      " 2.02790431e+07 2.86434615e+07 6.53277545e+06 4.15960800e+03\n",
      " 1.41222899e+07 1.32229127e+07 1.53410850e+07 2.22110373e+07\n",
      " 0.00000000e+00 8.58702000e+04 1.95465629e+07 1.42820161e+07\n",
      " 1.32722289e+07 1.26467998e+07 1.60431611e+07 2.09946556e+07\n",
      " 2.94659420e+04 1.39880841e+07 1.22620232e+07 1.11544160e+07\n",
      " 1.17850204e+07 1.54873679e+07 1.91714043e+07 2.74948460e+04\n",
      " 1.32733975e+07 1.20115467e+07 1.11439325e+07 1.25902430e+07\n",
      " 1.64301567e+07 2.08381434e+07 2.82998120e+04 1.36894859e+07\n",
      " 1.28118821e+07 1.27494248e+07 1.37304692e+07 1.71133701e+07\n",
      " 2.23788787e+07 3.03039060e+04 1.43145234e+07 1.30501039e+07\n",
      " 1.22566422e+07 1.23301845e+07 1.60714339e+07 2.08971226e+07\n",
      " 3.02650120e+04 1.44301332e+07 1.18133033e+07 1.22285791e+07\n",
      " 1.19309978e+07 1.56896487e+07 1.97410160e+07 2.83856460e+04\n",
      " 1.39298541e+07 1.20414012e+07 1.13647477e+07 1.19563187e+07\n",
      " 1.59005346e+07 2.00467459e+07 2.94196740e+04 1.50179078e+07\n",
      " 1.44021598e+07 9.73996600e+06 1.44486791e+07 1.83844725e+07\n",
      " 2.30974277e+07 3.19408860e+04 1.47039950e+07 1.31765472e+07\n",
      " 1.22723031e+07 1.20159564e+07 1.64285685e+07 2.13987995e+07\n",
      " 2.82352120e+04 1.43640701e+07 1.24898445e+07 1.15759725e+07\n",
      " 1.24638748e+07 1.63973151e+07 2.10584897e+07 3.24662220e+04\n",
      " 1.12436497e+07 1.33995074e+07 1.21282363e+07 1.25488378e+07\n",
      " 1.62456320e+07 2.14683474e+07 3.09096960e+04 1.60003238e+07\n",
      " 1.52979194e+07 2.02556316e+07 1.14300203e+07 3.92688162e+05\n",
      " 2.39584331e+07 5.75318520e+04 1.18974574e+07 1.67021564e+07\n",
      " 1.41300180e+07 1.34522128e+07 1.69136818e+07 2.26459703e+07\n",
      " 3.11841300e+04 1.34000372e+07 1.36388486e+07 1.25972622e+07\n",
      " 1.23756206e+07 1.63694008e+07 2.06122124e+07 2.81785360e+04\n",
      " 1.43455875e+07 1.21171104e+07 1.13811333e+07 1.21372436e+07\n",
      " 1.61233040e+07 2.06221121e+07 2.77320560e+04 1.28670340e+07\n",
      " 1.27896880e+07 1.28874665e+07 1.32978184e+07 1.75238965e+07\n",
      " 2.23696767e+07 3.44520380e+04 2.10226165e+07 3.95673800e+03\n",
      " 1.56939662e+07 1.56208522e+07]\n"
     ]
    },
    {
     "name": "stdout",
     "output_type": "stream",
     "text": [
      "Mean Squared Error on this fold: 473480921177159.7\n",
      "Predicted Sales (reconstructed): [16794382.95404129 20610366.59832438  1518704.87519943 20968975.57629545\n",
      "  4687607.93443893 16921969.17030002 17389120.09476699 15982226.69884882\n",
      " 19686103.96626439  3595835.73320777 21437054.17480364  8598337.60222651\n",
      " 17687518.39988554 18508129.9715014  15567772.61001277 19374637.81058878\n",
      "  6041479.91154576 22086205.62655144 11785722.30853503 18160350.55817701\n",
      " 19307201.94106884 15598825.67340907 19552465.7832227   8606856.26557308\n",
      " 22752752.23747247 14350364.0198751  18508982.78202428 19996790.09895625\n",
      " 16043251.16925938 20077324.13343519 11121506.38949947 23364578.22617038\n",
      " 16424882.59271563 18862120.71045177 20697662.14570595 16824444.40137096\n",
      " 20821208.32250747 13485008.22759062 23909220.5133843  18141780.84718106\n",
      " 19303225.2534571  21465293.65884415 17851201.10301702 21684421.63922369\n",
      " 15652416.65672526 24406691.07395462 19615610.8552292  19874984.08782836\n",
      " 22312991.14095211 19036916.62639642 22598628.2582572  17617599.3824739\n",
      " 24889639.64582487 20935572.92947919 20588618.26967573 23230719.44421868\n",
      " 20309854.7595068  23523423.54198247 19397984.88617649 25390653.92593998\n",
      " 22165057.49566606 21434332.85706502 24198707.37877635 21616809.81954707\n",
      " 24439929.92925676 21022438.24180921 25935472.27463343 23345118.77820976\n",
      " 22390707.79599864 25196123.40376529 22922488.42464742 25343802.47615422\n",
      " 22522732.0674156  26540506.02080917 24499606.42532472 23431986.40813104\n",
      " 26205741.51293141 24206572.99153661 26239039.12217337 23928316.54125579\n",
      " 27213112.12113593 25640441.60362377 24533021.1783033  27215721.10940885\n",
      " 25459920.20397461 27133229.94378326 25263716.23425205 27953325.61108762\n",
      " 26772178.90569573 25672115.83080982 28219562.57221627 26680838.91103556\n",
      " 28034363.0599777  26547777.72001452 28756111.74315324 27895490.01628305\n",
      " 26832229.06518955 29215101.28446038 27871962.75128207 28949003.2142238\n",
      " 27794054.71147721 29613538.28573539 29009534.33774416 28001056.96618009\n",
      " 30203159.52398027 29037914.6816473  29881522.72931439 29011762.48436784\n",
      " 30516550.2374416  30113368.62659112 29170458.38422584 31186245.66419766\n",
      " 30183753.48432003 30834040.38400568 30206901.22475885 31456234.45569242\n",
      " 31206626.98227978 30335585.5911986  32167503.38238381 31314078.86738299\n",
      " 31806765.03005274 31383302.36898253 32424592.60937609 32289710.22373659\n",
      " 31493969.31095165 33149979.69688126 32432627.76286847 32798511.4992032\n",
      " 32543475.05000542 33414910.2867055  33363690.76531646 32644705.53749755\n",
      " 34136196.73453607 33542195.66690023 33807232.15092111 33689216.41457849\n",
      " 34421834.71931484 34430088.95810902 33787812.11814951 35127968.76315849\n",
      " 34644742.95128729 34830474.07006605 34822002.7301179  35441269.63289358\n",
      " 35490625.06467177 34923768.33859044 36126391.7059368  35741581.86653645\n",
      " 35865723.05129243 35943204.66895033 36470176.61196472 36547006.41495198\n",
      " 36053218.19409813 37131936.2170688  36833575.58408879 36910630.0223188\n",
      " 37054177.84415852 37506347.84029225 37600775.58758378 37176802.82044712\n",
      " 38144588.61972905 37921310.66723397 37963135.47138112 38156275.85130043\n",
      " 38548191.38420165 38653223.02614986 38295084.31077711 39164000.27324484\n",
      " 39005226.68950365 39021516.15290373 39250823.53937759 39594550.63689255\n",
      " 39705354.76661748 39408527.02773446 40189621.29642294 40085701.36025903\n",
      " 40084379.48024102 40339077.06980152 40644565.32158137 40757900.54002836\n",
      " 40517509.75483497 41220806.99874633 41163097.67559449 41150627.76592554\n",
      " 41422187.01907361 41697572.38461727 41811346.96844932 41622350.00942804\n",
      " 42256894.20543995 42237782.9585805  42219409.28714631 42501172.57481226\n",
      " 42753040.29838848 42865982.77940677 42723329.00620751 43297250.11018685\n",
      " 43310129.85218006 43290067.69403634 43576909.11490916 43810528.58078567\n",
      " 43921946.33071984 43820711.3819268  44341298.99572412 44380507.78527949\n",
      " 44362096.50156888 44650127.95333131 44869664.60340466 44979269.20508664\n",
      " 44914757.70368242 45388532.91477595 45449271.18892633 45435101.73890701\n",
      " 45721425.32293559 45930131.07957488 46037912.60358042 46005730.15850102\n",
      " 46438511.96382812 46516748.47597636 46508773.3376722  46791277.2100482\n",
      " 46991659.322068   47097795.48820677 47093892.99442413 47490858.7110827\n",
      " 47583233.88785294 47582864.37754573 47860056.96459747 48054025.00871028\n",
      " 48158814.87529767 48179509.62241644 48545250.08660414 48648982.9058364\n",
      " 48657176.63511654 48928053.29125404 49117044.5628767  49220859.4735207\n",
      " 49262838.12622529 49601408.87417895 49714211.02263293 49731550.74649058\n",
      " 49995487.00638591 50180571.26217562]\n",
      "Actual Sales: [18250065.59999999 22331689.39199999    29164.348      14882810.634\n",
      " 13372266.18799999 12563977.73599999 13517136.84       16619668.698\n",
      " 21038523.108         31259.678      15155345.974      12029118.528\n",
      " 12714158.948      12430291.576      16466021.         19982761.146\n",
      "    34642.186      14135549.998      13054305.728      12092637.56199999\n",
      " 12503966.52       17522365.08399999 21463447.244         27956.872\n",
      " 15282137.30599999 13711069.832      12721516.558      13185561.79399999\n",
      " 18350237.624      23011588.714         35361.742      16581024.28199999\n",
      " 14279443.434      13182049.762      13349787.224      17141980.552\n",
      " 20730525.152         48182.39       15770201.64799999 13537855.04\n",
      " 12420671.25199999 13043290.266      16502259.456      21006903.314\n",
      "    32059.62       15642776.314      13364435.652      12654153.21599999\n",
      " 13366093.288      17033815.34200001 21966761.896         37141.786\n",
      " 15845212.308      14702686.54399999 13684015.         14288255.256\n",
      " 17084904.80399999 23042498.816        387862.36       17859962.288\n",
      " 15236929.466      14354959.112      14383808.698      17234903.36400001\n",
      " 21187790.69399999   367112.95       16806512.44999999 14533300.362\n",
      " 13504407.984      13833629.616      16906798.98199999 20760228.212\n",
      "   619435.45       16596416.936      14362644.074      13209152.366\n",
      " 13562144.098      16632930.722      20260502.61999999   708081.85\n",
      " 16062343.318      13923441.368      13012626.902      14101336.448\n",
      " 17199770.108      20789243.55400001   761304.35       17530823.874\n",
      " 15785738.98       16267006.63       15687153.02999999 17724536.836\n",
      " 21315330.574        924690.624      17814855.92999999 15134028.554\n",
      " 13906526.53599999 14144236.378      16699437.44       19479942.99999999\n",
      "   869363.64       17996755.48       18714038.36        1159349.56\n",
      " 17594384.52599999 16934354.71599999 18772111.00999999   572952.588\n",
      " 16960853.36399999 14357492.68799999 13044702.292      13328887.428\n",
      " 15563680.086      19080439.976        392910.3        17139821.278\n",
      " 14129376.012      13517129.186      14005453.332      17186997.332\n",
      " 21637723.88999999    89394.742      18079860.50999999 15119085.596\n",
      " 13941649.062      14057146.654      17289685.19999999 18619266.68000001\n",
      "    75408.304      18280801.21799999 12252634.35199999 13781169.468\n",
      " 13663889.11       16079464.596      20874616.70199999    30160.24\n",
      " 15877408.26       13410905.186      12546550.32599999 12845671.028\n",
      " 16062433.44       20871576.006         28571.146      14994786.126\n",
      " 14292085.902      13170801.254      13434602.626      17468420.83199999\n",
      " 22397518.52599999    36305.834      17174830.242      14775105.36799999\n",
      " 13577213.64       13675762.766      17177017.19399999 22293178.794\n",
      "    34588.31       16386675.164      11571271.90799999 14890368.458\n",
      " 20226468.70199999   119134.492      23610377.05400001    30112.004\n",
      " 16265128.93799999 13702928.406      12596113.088      12514604.956\n",
      " 16494772.506      21436919.29599999    30779.374      14633091.32599999\n",
      " 12629226.95199999 11670447.472      13388060.902      17531491.11999999\n",
      " 21985909.31          32234.638      15412242.788      14676812.932\n",
      " 19220443.336        108140.294      22424628.03999999 21357609.97599998\n",
      "    30308.044      16396960.84599999 14188013.95599999 12837202.88599999\n",
      " 13096005.41       16175917.05599999 22138718.08400001    30281.882\n",
      " 14941512.898      12791500.688      11935129.948      11962678.39399999\n",
      " 16292671.914      21190585.33          29368.822      14331859.02199999\n",
      " 12423072.642      11926575.692      11925593.37       15407675.31\n",
      " 20621890.99999999    40964.454      15899438.402      13655256.17199999\n",
      " 12870884.734      13633691.506      18673165.85599999 24392207.594\n",
      "    72712.968      16754252.372      15625683.388      19991862.756\n",
      "   198458.56       25213718.94        9938021.83         229339.566\n",
      " 19220393.24399999 15406635.91999999 13819452.67599999 13812511.744\n",
      " 17378539.96599999 22547904.77399999    97702.076      16814308.322\n",
      " 15424420.564      15427621.866      16798704.242      20789002.45799999\n",
      " 27815232.53600001  8534993.248      23582725.69399999        0.\n",
      " 11509173.104      15013147.09599999 18396623.22199999 24468016.748\n",
      "  7664277.158      23606628.95200001]\n"
     ]
    },
    {
     "name": "stderr",
     "output_type": "stream",
     "text": [
      "/opt/anaconda3/lib/python3.11/site-packages/statsmodels/tsa/base/tsa_model.py:836: ValueWarning: No supported index is available. Prediction results will be given with an integer index beginning at `start`.\n",
      "  return get_prediction_index(\n",
      "/opt/anaconda3/lib/python3.11/site-packages/statsmodels/tsa/base/tsa_model.py:836: FutureWarning: No supported index is available. In the next version, calling this method in a model without a supported index will result in an exception.\n",
      "  return get_prediction_index(\n"
     ]
    }
   ],
   "source": [
    "for train_index, test_index in tscv.split(X):\n",
    "    X_train, X_test = X.iloc[train_index], X.iloc[test_index]\n",
    "    y_train, y_test = y.iloc[train_index], y.iloc[test_index]\n",
    "    \n",
    "    #print(f\"\\nX_train shape: {X_train.shape}, X_test shape: {X_test.shape}\")\n",
    "    #print(f\"y_train shape: {y_train.shape}, y_test shape: {y_test.shape}\")\n",
    "    \n",
    "    # Train ARIMA model on y_train (you can add order based on your analysis)\n",
    "    \n",
    "    p = 7 # number of autoregressive terms\n",
    "    d = 0 # number of nonseasonal differences needed for stationarity (for the AR)\n",
    "    q = 1 # number of lagged forecast errors in the prediction equation (for the MA)\n",
    "    \n",
    "    model = ARIMA(y_train, order=(p, q, d))   \n",
    "    model_fit = model.fit()\n",
    "\n",
    "    # Predict on the test set (detrended predictions)\n",
    "    y_pred_detrended = model_fit.forecast(steps=len(y_test))  # Forecasting the length of the test set\n",
    "\n",
    "    # To convert back to original SALES\n",
    "    last_original_value = sales_lag_df['SALES'].iloc[train_index[-1]]\n",
    "    \n",
    "    # Reintegrate predictions: cumulative sum of predicted differences + last known sales value\n",
    "    y_pred_sales = np.r_[last_original_value, y_pred_detrended].cumsum()[1:]  # Start from the next value\n",
    "    \n",
    "    mse = mean_squared_error(sales_lag_df['SALES'].iloc[test_index], y_pred_sales)\n",
    "    print(f\"Mean Squared Error on this fold: {mse}\")\n",
    "\n",
    "    \n",
    "    print(\"Predicted Sales (reconstructed):\", y_pred_sales)\n",
    "    print(\"Actual Sales:\", sales_lag_df['SALES'].iloc[test_index].values)"
   ]
  },
  {
   "cell_type": "markdown",
   "metadata": {},
   "source": [
    "After making predictions on the detrended data, we can convert them back to the original `SALES`by reversing the differencing process. The key idea is to re-integrate the predicted differences (detrended values) back to the original scale by adding the last actual value from the previous data point."
   ]
  },
  {
   "cell_type": "markdown",
   "metadata": {},
   "source": [
    "### 3.3 LSTM (Long Short-Term Memory Neural Networks)\n",
    "\n",
    "Implement this type of RNN for time series forescasting. "
   ]
  },
  {
   "cell_type": "code",
   "execution_count": 7,
   "metadata": {},
   "outputs": [
    {
     "ename": "NameError",
     "evalue": "name 'MinMaxScaler' is not defined",
     "output_type": "error",
     "traceback": [
      "\u001b[0;31m---------------------------------------------------------------------------\u001b[0m",
      "\u001b[0;31mNameError\u001b[0m                                 Traceback (most recent call last)",
      "Cell \u001b[0;32mIn[7], line 1\u001b[0m\n\u001b[0;32m----> 1\u001b[0m scaler \u001b[38;5;241m=\u001b[39m MinMaxScaler(feature_range\u001b[38;5;241m=\u001b[39m(\u001b[38;5;241m0\u001b[39m, \u001b[38;5;241m1\u001b[39m))\n\u001b[1;32m      2\u001b[0m scaled_data \u001b[38;5;241m=\u001b[39m scaler\u001b[38;5;241m.\u001b[39mfit_transform(sales_lag_df[\u001b[38;5;124m'\u001b[39m\u001b[38;5;124mSALES\u001b[39m\u001b[38;5;124m'\u001b[39m]\u001b[38;5;241m.\u001b[39mvalues\u001b[38;5;241m.\u001b[39mreshape(\u001b[38;5;241m-\u001b[39m\u001b[38;5;241m1\u001b[39m, \u001b[38;5;241m1\u001b[39m))\n\u001b[1;32m      4\u001b[0m \u001b[38;5;66;03m# Prepare training data with a sequence of 60 days (or any other window size)\u001b[39;00m\n",
      "\u001b[0;31mNameError\u001b[0m: name 'MinMaxScaler' is not defined"
     ]
    }
   ],
   "source": [
    "scaler = MinMaxScaler(feature_range=(0, 1))\n",
    "scaled_data = scaler.fit_transform(sales_lag_df['SALES'].values.reshape(-1, 1))\n",
    "\n",
    "# Prepare training data with a sequence of 60 days (or any other window size)\n",
    "X_train, y_train = [], []\n",
    "for i in range(60, len(scaled_data)):\n",
    "    X_train.append(scaled_data[i-60:i, 0])\n",
    "    y_train.append(scaled_data[i, 0])\n",
    "X_train, y_train = np.array(X_train), np.array(y_train)\n",
    "\n",
    "# Reshape for LSTM input\n",
    "X_train = np.reshape(X_train, (X_train.shape[0], X_train.shape[1], 1))\n",
    "\n",
    "# Build the LSTM model\n",
    "model = Sequential()\n",
    "model.add(LSTM(units=50, return_sequences=True, input_shape=(X_train.shape[1], 1)))\n",
    "model.add(LSTM(units=50, return_sequences=False))\n",
    "model.add(Dense(units=25))\n",
    "model.add(Dense(units=1))\n",
    "\n",
    "# Compile and fit the model\n",
    "model.compile(optimizer='adam', loss='mean_squared_error')\n",
    "model.fit(X_train, y_train, batch_size=1, epochs=10)"
   ]
  },
  {
   "cell_type": "markdown",
   "metadata": {},
   "source": [
    "## 4. ✅ Validation"
   ]
  },
  {
   "cell_type": "markdown",
   "metadata": {},
   "source": [
    "Decide what metric to use to validate the performance of your model and explain why you chose it."
   ]
  },
  {
   "cell_type": "code",
   "execution_count": null,
   "metadata": {},
   "outputs": [],
   "source": []
  },
  {
   "cell_type": "markdown",
   "metadata": {},
   "source": [
    "## 5. 📊 Presentation of Results"
   ]
  },
  {
   "cell_type": "markdown",
   "metadata": {},
   "source": [
    "If you find it interesting, you can use plots to explain your results, metrics and how your model performance degrades over time.\n",
    "\n",
    "Also, it may be interesting to write down future work that you think may improve the obtained result."
   ]
  },
  {
   "cell_type": "code",
   "execution_count": null,
   "metadata": {},
   "outputs": [],
   "source": []
  },
  {
   "cell_type": "markdown",
   "metadata": {},
   "source": [
    "### 5.1 👨🏻‍🏫 Explainability with SHAP"
   ]
  },
  {
   "cell_type": "markdown",
   "metadata": {},
   "source": [
    "You have explained the results of your trained model using plots and your own words. Now... let's take the next step. We'll be using a library called SHAP, that may help you find insights and explainability on how your model learned the data.\n",
    "\n",
    "If you haven't heard of SHAP you can find their web site here:\n",
    "\n",
    "https://shap.readthedocs.io/en/latest/\n",
    "\n",
    "Don't worry, you will be guided through this exercises."
   ]
  },
  {
   "cell_type": "markdown",
   "metadata": {},
   "source": [
    "#### 5.1.1 🐝 Build a Beeswarm plot"
   ]
  },
  {
   "cell_type": "markdown",
   "metadata": {},
   "source": [
    "Build a Beeswarm plot to help you explain how each feature affects to the output given by the model"
   ]
  },
  {
   "cell_type": "code",
   "execution_count": null,
   "metadata": {},
   "outputs": [],
   "source": []
  },
  {
   "cell_type": "markdown",
   "metadata": {},
   "source": [
    "#### 5.1.2 💪🏻 Build a Force plot"
   ]
  },
  {
   "cell_type": "markdown",
   "metadata": {},
   "source": [
    "Build a Force plot to help you explain how each feature affects to the output given by the model"
   ]
  },
  {
   "cell_type": "code",
   "execution_count": null,
   "metadata": {},
   "outputs": [],
   "source": []
  },
  {
   "cell_type": "markdown",
   "metadata": {},
   "source": [
    "#### 5.1.3 🤷🏻‍♂️ Optional"
   ]
  },
  {
   "cell_type": "markdown",
   "metadata": {},
   "source": [
    "Explore the SHAP documentation and add any plot you may find useful to explain how the model decides its outputs."
   ]
  },
  {
   "cell_type": "code",
   "execution_count": null,
   "metadata": {},
   "outputs": [],
   "source": []
  },
  {
   "cell_type": "markdown",
   "metadata": {},
   "source": [
    "## 6. 🗃️ Model export"
   ]
  },
  {
   "cell_type": "markdown",
   "metadata": {},
   "source": [
    "If you have arrived to this point... Congratulations!! 🥳. You trained a working model that can now be served in an API to be used to make predictions.\n",
    "\n",
    "If you feel like developing a simple REST API to serve your amazing model, continue to the next step you will find in the `app/main.py` file located in this repository.\n",
    "\n",
    "But first, make sure to export your model to a file you can use to load it in your endpoint."
   ]
  },
  {
   "cell_type": "code",
   "execution_count": null,
   "metadata": {},
   "outputs": [],
   "source": []
  }
 ],
 "metadata": {
  "kernelspec": {
   "display_name": "Python 3 (ipykernel)",
   "language": "python",
   "name": "python3"
  },
  "language_info": {
   "codemirror_mode": {
    "name": "ipython",
    "version": 3
   },
   "file_extension": ".py",
   "mimetype": "text/x-python",
   "name": "python",
   "nbconvert_exporter": "python",
   "pygments_lexer": "ipython3",
   "version": "3.11.7"
  }
 },
 "nbformat": 4,
 "nbformat_minor": 2
}
